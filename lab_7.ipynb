{
  "nbformat": 4,
  "nbformat_minor": 0,
  "metadata": {
    "colab": {
      "provenance": [],
      "gpuType": "T4",
      "collapsed_sections": [
        "Ap-X169kLITi",
        "fztKmcFQYtR8",
        "r1BS6PfbE9qk",
        "0VGb-oj8E9Y8",
        "CWwK3XRaE9GM"
      ]
    },
    "kernelspec": {
      "name": "python3",
      "display_name": "Python 3"
    },
    "language_info": {
      "name": "python"
    },
    "accelerator": "GPU",
    "widgets": {
      "application/vnd.jupyter.widget-state+json": {
        "d4cde16d648a4313a3bdf57120efdd9f": {
          "model_module": "@jupyter-widgets/controls",
          "model_name": "HBoxModel",
          "model_module_version": "1.5.0",
          "state": {
            "_dom_classes": [],
            "_model_module": "@jupyter-widgets/controls",
            "_model_module_version": "1.5.0",
            "_model_name": "HBoxModel",
            "_view_count": null,
            "_view_module": "@jupyter-widgets/controls",
            "_view_module_version": "1.5.0",
            "_view_name": "HBoxView",
            "box_style": "",
            "children": [
              "IPY_MODEL_5a87d93d1c344362b3c2ce4d64005b40",
              "IPY_MODEL_126a84193434447b92ff3c6319713e78",
              "IPY_MODEL_7dd11ac7beea4a04a63c5d404a50b46d"
            ],
            "layout": "IPY_MODEL_b9c16ba0464946479e45a223d6acec2b"
          }
        },
        "5a87d93d1c344362b3c2ce4d64005b40": {
          "model_module": "@jupyter-widgets/controls",
          "model_name": "HTMLModel",
          "model_module_version": "1.5.0",
          "state": {
            "_dom_classes": [],
            "_model_module": "@jupyter-widgets/controls",
            "_model_module_version": "1.5.0",
            "_model_name": "HTMLModel",
            "_view_count": null,
            "_view_module": "@jupyter-widgets/controls",
            "_view_module_version": "1.5.0",
            "_view_name": "HTMLView",
            "description": "",
            "description_tooltip": null,
            "layout": "IPY_MODEL_91f91f02a03242d4b49bb677c0fd3726",
            "placeholder": "​",
            "style": "IPY_MODEL_12de04c99f674eb097af4de5142fdc47",
            "value": "config.json: 100%"
          }
        },
        "126a84193434447b92ff3c6319713e78": {
          "model_module": "@jupyter-widgets/controls",
          "model_name": "FloatProgressModel",
          "model_module_version": "1.5.0",
          "state": {
            "_dom_classes": [],
            "_model_module": "@jupyter-widgets/controls",
            "_model_module_version": "1.5.0",
            "_model_name": "FloatProgressModel",
            "_view_count": null,
            "_view_module": "@jupyter-widgets/controls",
            "_view_module_version": "1.5.0",
            "_view_name": "ProgressView",
            "bar_style": "success",
            "description": "",
            "description_tooltip": null,
            "layout": "IPY_MODEL_c879aab1ec1e493ba86ea7e27091f0a0",
            "max": 156,
            "min": 0,
            "orientation": "horizontal",
            "style": "IPY_MODEL_22c3355a19f64bb193c08b6dc3914a67",
            "value": 156
          }
        },
        "7dd11ac7beea4a04a63c5d404a50b46d": {
          "model_module": "@jupyter-widgets/controls",
          "model_name": "HTMLModel",
          "model_module_version": "1.5.0",
          "state": {
            "_dom_classes": [],
            "_model_module": "@jupyter-widgets/controls",
            "_model_module_version": "1.5.0",
            "_model_name": "HTMLModel",
            "_view_count": null,
            "_view_module": "@jupyter-widgets/controls",
            "_view_module_version": "1.5.0",
            "_view_name": "HTMLView",
            "description": "",
            "description_tooltip": null,
            "layout": "IPY_MODEL_6903ce60fb0140889a3194274e83c31e",
            "placeholder": "​",
            "style": "IPY_MODEL_6450909f100e4de3bca978441f87c8e0",
            "value": " 156/156 [00:00&lt;00:00, 15.7kB/s]"
          }
        },
        "b9c16ba0464946479e45a223d6acec2b": {
          "model_module": "@jupyter-widgets/base",
          "model_name": "LayoutModel",
          "model_module_version": "1.2.0",
          "state": {
            "_model_module": "@jupyter-widgets/base",
            "_model_module_version": "1.2.0",
            "_model_name": "LayoutModel",
            "_view_count": null,
            "_view_module": "@jupyter-widgets/base",
            "_view_module_version": "1.2.0",
            "_view_name": "LayoutView",
            "align_content": null,
            "align_items": null,
            "align_self": null,
            "border": null,
            "bottom": null,
            "display": null,
            "flex": null,
            "flex_flow": null,
            "grid_area": null,
            "grid_auto_columns": null,
            "grid_auto_flow": null,
            "grid_auto_rows": null,
            "grid_column": null,
            "grid_gap": null,
            "grid_row": null,
            "grid_template_areas": null,
            "grid_template_columns": null,
            "grid_template_rows": null,
            "height": null,
            "justify_content": null,
            "justify_items": null,
            "left": null,
            "margin": null,
            "max_height": null,
            "max_width": null,
            "min_height": null,
            "min_width": null,
            "object_fit": null,
            "object_position": null,
            "order": null,
            "overflow": null,
            "overflow_x": null,
            "overflow_y": null,
            "padding": null,
            "right": null,
            "top": null,
            "visibility": null,
            "width": null
          }
        },
        "91f91f02a03242d4b49bb677c0fd3726": {
          "model_module": "@jupyter-widgets/base",
          "model_name": "LayoutModel",
          "model_module_version": "1.2.0",
          "state": {
            "_model_module": "@jupyter-widgets/base",
            "_model_module_version": "1.2.0",
            "_model_name": "LayoutModel",
            "_view_count": null,
            "_view_module": "@jupyter-widgets/base",
            "_view_module_version": "1.2.0",
            "_view_name": "LayoutView",
            "align_content": null,
            "align_items": null,
            "align_self": null,
            "border": null,
            "bottom": null,
            "display": null,
            "flex": null,
            "flex_flow": null,
            "grid_area": null,
            "grid_auto_columns": null,
            "grid_auto_flow": null,
            "grid_auto_rows": null,
            "grid_column": null,
            "grid_gap": null,
            "grid_row": null,
            "grid_template_areas": null,
            "grid_template_columns": null,
            "grid_template_rows": null,
            "height": null,
            "justify_content": null,
            "justify_items": null,
            "left": null,
            "margin": null,
            "max_height": null,
            "max_width": null,
            "min_height": null,
            "min_width": null,
            "object_fit": null,
            "object_position": null,
            "order": null,
            "overflow": null,
            "overflow_x": null,
            "overflow_y": null,
            "padding": null,
            "right": null,
            "top": null,
            "visibility": null,
            "width": null
          }
        },
        "12de04c99f674eb097af4de5142fdc47": {
          "model_module": "@jupyter-widgets/controls",
          "model_name": "DescriptionStyleModel",
          "model_module_version": "1.5.0",
          "state": {
            "_model_module": "@jupyter-widgets/controls",
            "_model_module_version": "1.5.0",
            "_model_name": "DescriptionStyleModel",
            "_view_count": null,
            "_view_module": "@jupyter-widgets/base",
            "_view_module_version": "1.2.0",
            "_view_name": "StyleView",
            "description_width": ""
          }
        },
        "c879aab1ec1e493ba86ea7e27091f0a0": {
          "model_module": "@jupyter-widgets/base",
          "model_name": "LayoutModel",
          "model_module_version": "1.2.0",
          "state": {
            "_model_module": "@jupyter-widgets/base",
            "_model_module_version": "1.2.0",
            "_model_name": "LayoutModel",
            "_view_count": null,
            "_view_module": "@jupyter-widgets/base",
            "_view_module_version": "1.2.0",
            "_view_name": "LayoutView",
            "align_content": null,
            "align_items": null,
            "align_self": null,
            "border": null,
            "bottom": null,
            "display": null,
            "flex": null,
            "flex_flow": null,
            "grid_area": null,
            "grid_auto_columns": null,
            "grid_auto_flow": null,
            "grid_auto_rows": null,
            "grid_column": null,
            "grid_gap": null,
            "grid_row": null,
            "grid_template_areas": null,
            "grid_template_columns": null,
            "grid_template_rows": null,
            "height": null,
            "justify_content": null,
            "justify_items": null,
            "left": null,
            "margin": null,
            "max_height": null,
            "max_width": null,
            "min_height": null,
            "min_width": null,
            "object_fit": null,
            "object_position": null,
            "order": null,
            "overflow": null,
            "overflow_x": null,
            "overflow_y": null,
            "padding": null,
            "right": null,
            "top": null,
            "visibility": null,
            "width": null
          }
        },
        "22c3355a19f64bb193c08b6dc3914a67": {
          "model_module": "@jupyter-widgets/controls",
          "model_name": "ProgressStyleModel",
          "model_module_version": "1.5.0",
          "state": {
            "_model_module": "@jupyter-widgets/controls",
            "_model_module_version": "1.5.0",
            "_model_name": "ProgressStyleModel",
            "_view_count": null,
            "_view_module": "@jupyter-widgets/base",
            "_view_module_version": "1.2.0",
            "_view_name": "StyleView",
            "bar_color": null,
            "description_width": ""
          }
        },
        "6903ce60fb0140889a3194274e83c31e": {
          "model_module": "@jupyter-widgets/base",
          "model_name": "LayoutModel",
          "model_module_version": "1.2.0",
          "state": {
            "_model_module": "@jupyter-widgets/base",
            "_model_module_version": "1.2.0",
            "_model_name": "LayoutModel",
            "_view_count": null,
            "_view_module": "@jupyter-widgets/base",
            "_view_module_version": "1.2.0",
            "_view_name": "LayoutView",
            "align_content": null,
            "align_items": null,
            "align_self": null,
            "border": null,
            "bottom": null,
            "display": null,
            "flex": null,
            "flex_flow": null,
            "grid_area": null,
            "grid_auto_columns": null,
            "grid_auto_flow": null,
            "grid_auto_rows": null,
            "grid_column": null,
            "grid_gap": null,
            "grid_row": null,
            "grid_template_areas": null,
            "grid_template_columns": null,
            "grid_template_rows": null,
            "height": null,
            "justify_content": null,
            "justify_items": null,
            "left": null,
            "margin": null,
            "max_height": null,
            "max_width": null,
            "min_height": null,
            "min_width": null,
            "object_fit": null,
            "object_position": null,
            "order": null,
            "overflow": null,
            "overflow_x": null,
            "overflow_y": null,
            "padding": null,
            "right": null,
            "top": null,
            "visibility": null,
            "width": null
          }
        },
        "6450909f100e4de3bca978441f87c8e0": {
          "model_module": "@jupyter-widgets/controls",
          "model_name": "DescriptionStyleModel",
          "model_module_version": "1.5.0",
          "state": {
            "_model_module": "@jupyter-widgets/controls",
            "_model_module_version": "1.5.0",
            "_model_name": "DescriptionStyleModel",
            "_view_count": null,
            "_view_module": "@jupyter-widgets/base",
            "_view_module_version": "1.2.0",
            "_view_name": "StyleView",
            "description_width": ""
          }
        },
        "c15f8761b7cd4551a62184dd8517adba": {
          "model_module": "@jupyter-widgets/controls",
          "model_name": "HBoxModel",
          "model_module_version": "1.5.0",
          "state": {
            "_dom_classes": [],
            "_model_module": "@jupyter-widgets/controls",
            "_model_module_version": "1.5.0",
            "_model_name": "HBoxModel",
            "_view_count": null,
            "_view_module": "@jupyter-widgets/controls",
            "_view_module_version": "1.5.0",
            "_view_name": "HBoxView",
            "box_style": "",
            "children": [
              "IPY_MODEL_2b6e1080678f4378b9af1934c67dd28f",
              "IPY_MODEL_14443787e8604b2a8cc778bb7e471060",
              "IPY_MODEL_7e5156500733450393418c9b732712aa"
            ],
            "layout": "IPY_MODEL_16ce27e3e280484f8439aa5037da76a2"
          }
        },
        "2b6e1080678f4378b9af1934c67dd28f": {
          "model_module": "@jupyter-widgets/controls",
          "model_name": "HTMLModel",
          "model_module_version": "1.5.0",
          "state": {
            "_dom_classes": [],
            "_model_module": "@jupyter-widgets/controls",
            "_model_module_version": "1.5.0",
            "_model_name": "HTMLModel",
            "_view_count": null,
            "_view_module": "@jupyter-widgets/controls",
            "_view_module_version": "1.5.0",
            "_view_name": "HTMLView",
            "description": "",
            "description_tooltip": null,
            "layout": "IPY_MODEL_83bf31af395e46b0a6b57b05097cd343",
            "placeholder": "​",
            "style": "IPY_MODEL_ad8d05426c154206b68f0d22b8d8e93a",
            "value": "model.safetensors: 100%"
          }
        },
        "14443787e8604b2a8cc778bb7e471060": {
          "model_module": "@jupyter-widgets/controls",
          "model_name": "FloatProgressModel",
          "model_module_version": "1.5.0",
          "state": {
            "_dom_classes": [],
            "_model_module": "@jupyter-widgets/controls",
            "_model_module_version": "1.5.0",
            "_model_name": "FloatProgressModel",
            "_view_count": null,
            "_view_module": "@jupyter-widgets/controls",
            "_view_module_version": "1.5.0",
            "_view_name": "ProgressView",
            "bar_style": "success",
            "description": "",
            "description_tooltip": null,
            "layout": "IPY_MODEL_a0221d27d7d04eca8e95cbeadb97a454",
            "max": 46805552,
            "min": 0,
            "orientation": "horizontal",
            "style": "IPY_MODEL_1f563cdb4c914987b46d63666e8fbbbd",
            "value": 46805552
          }
        },
        "7e5156500733450393418c9b732712aa": {
          "model_module": "@jupyter-widgets/controls",
          "model_name": "HTMLModel",
          "model_module_version": "1.5.0",
          "state": {
            "_dom_classes": [],
            "_model_module": "@jupyter-widgets/controls",
            "_model_module_version": "1.5.0",
            "_model_name": "HTMLModel",
            "_view_count": null,
            "_view_module": "@jupyter-widgets/controls",
            "_view_module_version": "1.5.0",
            "_view_name": "HTMLView",
            "description": "",
            "description_tooltip": null,
            "layout": "IPY_MODEL_d923db6c93064dbc9f0c522e56571ff1",
            "placeholder": "​",
            "style": "IPY_MODEL_ea6afc1c643549abb4c998a8f077a6c5",
            "value": " 46.8M/46.8M [00:00&lt;00:00, 112MB/s]"
          }
        },
        "16ce27e3e280484f8439aa5037da76a2": {
          "model_module": "@jupyter-widgets/base",
          "model_name": "LayoutModel",
          "model_module_version": "1.2.0",
          "state": {
            "_model_module": "@jupyter-widgets/base",
            "_model_module_version": "1.2.0",
            "_model_name": "LayoutModel",
            "_view_count": null,
            "_view_module": "@jupyter-widgets/base",
            "_view_module_version": "1.2.0",
            "_view_name": "LayoutView",
            "align_content": null,
            "align_items": null,
            "align_self": null,
            "border": null,
            "bottom": null,
            "display": null,
            "flex": null,
            "flex_flow": null,
            "grid_area": null,
            "grid_auto_columns": null,
            "grid_auto_flow": null,
            "grid_auto_rows": null,
            "grid_column": null,
            "grid_gap": null,
            "grid_row": null,
            "grid_template_areas": null,
            "grid_template_columns": null,
            "grid_template_rows": null,
            "height": null,
            "justify_content": null,
            "justify_items": null,
            "left": null,
            "margin": null,
            "max_height": null,
            "max_width": null,
            "min_height": null,
            "min_width": null,
            "object_fit": null,
            "object_position": null,
            "order": null,
            "overflow": null,
            "overflow_x": null,
            "overflow_y": null,
            "padding": null,
            "right": null,
            "top": null,
            "visibility": null,
            "width": null
          }
        },
        "83bf31af395e46b0a6b57b05097cd343": {
          "model_module": "@jupyter-widgets/base",
          "model_name": "LayoutModel",
          "model_module_version": "1.2.0",
          "state": {
            "_model_module": "@jupyter-widgets/base",
            "_model_module_version": "1.2.0",
            "_model_name": "LayoutModel",
            "_view_count": null,
            "_view_module": "@jupyter-widgets/base",
            "_view_module_version": "1.2.0",
            "_view_name": "LayoutView",
            "align_content": null,
            "align_items": null,
            "align_self": null,
            "border": null,
            "bottom": null,
            "display": null,
            "flex": null,
            "flex_flow": null,
            "grid_area": null,
            "grid_auto_columns": null,
            "grid_auto_flow": null,
            "grid_auto_rows": null,
            "grid_column": null,
            "grid_gap": null,
            "grid_row": null,
            "grid_template_areas": null,
            "grid_template_columns": null,
            "grid_template_rows": null,
            "height": null,
            "justify_content": null,
            "justify_items": null,
            "left": null,
            "margin": null,
            "max_height": null,
            "max_width": null,
            "min_height": null,
            "min_width": null,
            "object_fit": null,
            "object_position": null,
            "order": null,
            "overflow": null,
            "overflow_x": null,
            "overflow_y": null,
            "padding": null,
            "right": null,
            "top": null,
            "visibility": null,
            "width": null
          }
        },
        "ad8d05426c154206b68f0d22b8d8e93a": {
          "model_module": "@jupyter-widgets/controls",
          "model_name": "DescriptionStyleModel",
          "model_module_version": "1.5.0",
          "state": {
            "_model_module": "@jupyter-widgets/controls",
            "_model_module_version": "1.5.0",
            "_model_name": "DescriptionStyleModel",
            "_view_count": null,
            "_view_module": "@jupyter-widgets/base",
            "_view_module_version": "1.2.0",
            "_view_name": "StyleView",
            "description_width": ""
          }
        },
        "a0221d27d7d04eca8e95cbeadb97a454": {
          "model_module": "@jupyter-widgets/base",
          "model_name": "LayoutModel",
          "model_module_version": "1.2.0",
          "state": {
            "_model_module": "@jupyter-widgets/base",
            "_model_module_version": "1.2.0",
            "_model_name": "LayoutModel",
            "_view_count": null,
            "_view_module": "@jupyter-widgets/base",
            "_view_module_version": "1.2.0",
            "_view_name": "LayoutView",
            "align_content": null,
            "align_items": null,
            "align_self": null,
            "border": null,
            "bottom": null,
            "display": null,
            "flex": null,
            "flex_flow": null,
            "grid_area": null,
            "grid_auto_columns": null,
            "grid_auto_flow": null,
            "grid_auto_rows": null,
            "grid_column": null,
            "grid_gap": null,
            "grid_row": null,
            "grid_template_areas": null,
            "grid_template_columns": null,
            "grid_template_rows": null,
            "height": null,
            "justify_content": null,
            "justify_items": null,
            "left": null,
            "margin": null,
            "max_height": null,
            "max_width": null,
            "min_height": null,
            "min_width": null,
            "object_fit": null,
            "object_position": null,
            "order": null,
            "overflow": null,
            "overflow_x": null,
            "overflow_y": null,
            "padding": null,
            "right": null,
            "top": null,
            "visibility": null,
            "width": null
          }
        },
        "1f563cdb4c914987b46d63666e8fbbbd": {
          "model_module": "@jupyter-widgets/controls",
          "model_name": "ProgressStyleModel",
          "model_module_version": "1.5.0",
          "state": {
            "_model_module": "@jupyter-widgets/controls",
            "_model_module_version": "1.5.0",
            "_model_name": "ProgressStyleModel",
            "_view_count": null,
            "_view_module": "@jupyter-widgets/base",
            "_view_module_version": "1.2.0",
            "_view_name": "StyleView",
            "bar_color": null,
            "description_width": ""
          }
        },
        "d923db6c93064dbc9f0c522e56571ff1": {
          "model_module": "@jupyter-widgets/base",
          "model_name": "LayoutModel",
          "model_module_version": "1.2.0",
          "state": {
            "_model_module": "@jupyter-widgets/base",
            "_model_module_version": "1.2.0",
            "_model_name": "LayoutModel",
            "_view_count": null,
            "_view_module": "@jupyter-widgets/base",
            "_view_module_version": "1.2.0",
            "_view_name": "LayoutView",
            "align_content": null,
            "align_items": null,
            "align_self": null,
            "border": null,
            "bottom": null,
            "display": null,
            "flex": null,
            "flex_flow": null,
            "grid_area": null,
            "grid_auto_columns": null,
            "grid_auto_flow": null,
            "grid_auto_rows": null,
            "grid_column": null,
            "grid_gap": null,
            "grid_row": null,
            "grid_template_areas": null,
            "grid_template_columns": null,
            "grid_template_rows": null,
            "height": null,
            "justify_content": null,
            "justify_items": null,
            "left": null,
            "margin": null,
            "max_height": null,
            "max_width": null,
            "min_height": null,
            "min_width": null,
            "object_fit": null,
            "object_position": null,
            "order": null,
            "overflow": null,
            "overflow_x": null,
            "overflow_y": null,
            "padding": null,
            "right": null,
            "top": null,
            "visibility": null,
            "width": null
          }
        },
        "ea6afc1c643549abb4c998a8f077a6c5": {
          "model_module": "@jupyter-widgets/controls",
          "model_name": "DescriptionStyleModel",
          "model_module_version": "1.5.0",
          "state": {
            "_model_module": "@jupyter-widgets/controls",
            "_model_module_version": "1.5.0",
            "_model_name": "DescriptionStyleModel",
            "_view_count": null,
            "_view_module": "@jupyter-widgets/base",
            "_view_module_version": "1.2.0",
            "_view_name": "StyleView",
            "description_width": ""
          }
        }
      }
    }
  },
  "cells": [
    {
      "cell_type": "markdown",
      "source": [
        "# Лабораторная работа №7"
      ],
      "metadata": {
        "id": "FjDFTlulCkO_"
      }
    },
    {
      "cell_type": "markdown",
      "source": [
        "## 1. Выбор начальных условий\n",
        "a.\tВыбрать набор данных и обосновать его выбор.\n",
        "\n",
        "Датасет - https://www.kaggle.com/datasets/truthisneverlinear/childrens-dental-panoramic-radiographs-dataset, папка - adult tooth segmentation\n",
        "\n",
        "Данный датасет выбран, так как он представляет реальные панорамные рентгеновские снимки зубов, что актуально для практических задач стоматологии. Сегментация зубов необходима для диагностики, планирования лечения и мониторинга состояния полости рта.\n",
        "\n",
        "b.\tВыбрать метрики качества и обосновать их выбор.\n",
        "\n",
        "IoU — основная метрика для оценки качества сегментации, показывает степень пересечения предсказанных и истинных масок, что критично для точного выделения зубов\n",
        "\n",
        "Dice Coefficient — чувствительна к ошибкам при малых объектах, таких как отдельные зубы\n",
        "\n",
        "Pixel Accuracy — общая точность классификации пикселей"
      ],
      "metadata": {
        "id": "7V-ly_n_C09d"
      }
    },
    {
      "cell_type": "markdown",
      "source": [
        "## 2.\tСоздание бейзлайна и оценка качества\n"
      ],
      "metadata": {
        "id": "PQxtNd8KDsN9"
      }
    },
    {
      "cell_type": "code",
      "source": [
        "!pip install torchmetrics --quiet\n",
        "!pip install torch torchvision torchaudio --quiet\n",
        "!pip install scikit-learn --quiet\n",
        "!pip install segmentation-models-pytorch --quiet\n",
        "!pip install kaggle --quiet"
      ],
      "metadata": {
        "colab": {
          "base_uri": "https://localhost:8080/"
        },
        "id": "BVw00pFvkmY8",
        "outputId": "6463757c-951e-4185-a58e-cd066c73b028"
      },
      "execution_count": 1,
      "outputs": [
        {
          "output_type": "stream",
          "name": "stdout",
          "text": [
            "\u001b[2K   \u001b[90m━━━━━━━━━━━━━━━━━━━━━━━━━━━━━━━━━━━━━━━━\u001b[0m \u001b[32m961.5/961.5 kB\u001b[0m \u001b[31m26.0 MB/s\u001b[0m eta \u001b[36m0:00:00\u001b[0m\n",
            "\u001b[2K   \u001b[90m━━━━━━━━━━━━━━━━━━━━━━━━━━━━━━━━━━━━━━━━\u001b[0m \u001b[32m363.4/363.4 MB\u001b[0m \u001b[31m4.6 MB/s\u001b[0m eta \u001b[36m0:00:00\u001b[0m\n",
            "\u001b[2K   \u001b[90m━━━━━━━━━━━━━━━━━━━━━━━━━━━━━━━━━━━━━━━━\u001b[0m \u001b[32m13.8/13.8 MB\u001b[0m \u001b[31m49.5 MB/s\u001b[0m eta \u001b[36m0:00:00\u001b[0m\n",
            "\u001b[2K   \u001b[90m━━━━━━━━━━━━━━━━━━━━━━━━━━━━━━━━━━━━━━━━\u001b[0m \u001b[32m24.6/24.6 MB\u001b[0m \u001b[31m50.8 MB/s\u001b[0m eta \u001b[36m0:00:00\u001b[0m\n",
            "\u001b[2K   \u001b[90m━━━━━━━━━━━━━━━━━━━━━━━━━━━━━━━━━━━━━━━━\u001b[0m \u001b[32m883.7/883.7 kB\u001b[0m \u001b[31m34.1 MB/s\u001b[0m eta \u001b[36m0:00:00\u001b[0m\n",
            "\u001b[2K   \u001b[90m━━━━━━━━━━━━━━━━━━━━━━━━━━━━━━━━━━━━━━━━\u001b[0m \u001b[32m664.8/664.8 MB\u001b[0m \u001b[31m2.8 MB/s\u001b[0m eta \u001b[36m0:00:00\u001b[0m\n",
            "\u001b[2K   \u001b[90m━━━━━━━━━━━━━━━━━━━━━━━━━━━━━━━━━━━━━━━━\u001b[0m \u001b[32m211.5/211.5 MB\u001b[0m \u001b[31m5.3 MB/s\u001b[0m eta \u001b[36m0:00:00\u001b[0m\n",
            "\u001b[2K   \u001b[90m━━━━━━━━━━━━━━━━━━━━━━━━━━━━━━━━━━━━━━━━\u001b[0m \u001b[32m56.3/56.3 MB\u001b[0m \u001b[31m11.7 MB/s\u001b[0m eta \u001b[36m0:00:00\u001b[0m\n",
            "\u001b[2K   \u001b[90m━━━━━━━━━━━━━━━━━━━━━━━━━━━━━━━━━━━━━━━━\u001b[0m \u001b[32m127.9/127.9 MB\u001b[0m \u001b[31m7.8 MB/s\u001b[0m eta \u001b[36m0:00:00\u001b[0m\n",
            "\u001b[2K   \u001b[90m━━━━━━━━━━━━━━━━━━━━━━━━━━━━━━━━━━━━━━━━\u001b[0m \u001b[32m207.5/207.5 MB\u001b[0m \u001b[31m5.4 MB/s\u001b[0m eta \u001b[36m0:00:00\u001b[0m\n",
            "\u001b[2K   \u001b[90m━━━━━━━━━━━━━━━━━━━━━━━━━━━━━━━━━━━━━━━━\u001b[0m \u001b[32m21.1/21.1 MB\u001b[0m \u001b[31m81.3 MB/s\u001b[0m eta \u001b[36m0:00:00\u001b[0m\n",
            "\u001b[2K   \u001b[90m━━━━━━━━━━━━━━━━━━━━━━━━━━━━━━━━━━━━━━━━\u001b[0m \u001b[32m154.8/154.8 kB\u001b[0m \u001b[31m5.0 MB/s\u001b[0m eta \u001b[36m0:00:00\u001b[0m\n",
            "\u001b[?25h"
          ]
        }
      ]
    },
    {
      "cell_type": "code",
      "source": [
        "import os, random, copy\n",
        "from pathlib import Path\n",
        "from dataclasses import dataclass\n",
        "import numpy as np\n",
        "import matplotlib.pyplot as plt\n",
        "from PIL import Image\n",
        "from tqdm import tqdm\n",
        "import torch\n",
        "import torch.nn as nn\n",
        "import torch.optim as optim\n",
        "from torch.utils.data import DataLoader, Dataset, random_split\n",
        "import torchvision.transforms.functional as TF\n",
        "from sklearn.metrics import jaccard_score, f1_score\n",
        "import albumentations as A\n",
        "from albumentations.pytorch import ToTensorV2\n",
        "import segmentation_models_pytorch\n",
        "from torchmetrics.classification import BinaryJaccardIndex, BinaryF1Score"
      ],
      "metadata": {
        "id": "Cu2sgfrYZlFi",
        "colab": {
          "base_uri": "https://localhost:8080/"
        },
        "outputId": "88f2fc28-113c-4c37-90a6-5ae89f7cd9fe"
      },
      "execution_count": 2,
      "outputs": [
        {
          "output_type": "stream",
          "name": "stderr",
          "text": [
            "/usr/local/lib/python3.11/dist-packages/albumentations/__init__.py:28: UserWarning: A new version of Albumentations is available: '2.0.7' (you have '2.0.6'). Upgrade using: pip install -U albumentations. To disable automatic update checks, set the environment variable NO_ALBUMENTATIONS_UPDATE to 1.\n",
            "  check_for_updates()\n"
          ]
        }
      ]
    },
    {
      "cell_type": "markdown",
      "source": [
        "Загрузим датасет"
      ],
      "metadata": {
        "id": "RR7ErP34MCqO"
      }
    },
    {
      "cell_type": "code",
      "source": [
        "from google.colab import files\n",
        "files.upload()"
      ],
      "metadata": {
        "colab": {
          "base_uri": "https://localhost:8080/",
          "height": 90
        },
        "id": "y_Aa8rO_NsEn",
        "outputId": "8cb00851-4868-47de-8572-ebd6d0c8addf"
      },
      "execution_count": 3,
      "outputs": [
        {
          "output_type": "display_data",
          "data": {
            "text/plain": [
              "<IPython.core.display.HTML object>"
            ],
            "text/html": [
              "\n",
              "     <input type=\"file\" id=\"files-c2440cc7-1d38-47d1-b3d2-a8ce5b51ad55\" name=\"files[]\" multiple disabled\n",
              "        style=\"border:none\" />\n",
              "     <output id=\"result-c2440cc7-1d38-47d1-b3d2-a8ce5b51ad55\">\n",
              "      Upload widget is only available when the cell has been executed in the\n",
              "      current browser session. Please rerun this cell to enable.\n",
              "      </output>\n",
              "      <script>// Copyright 2017 Google LLC\n",
              "//\n",
              "// Licensed under the Apache License, Version 2.0 (the \"License\");\n",
              "// you may not use this file except in compliance with the License.\n",
              "// You may obtain a copy of the License at\n",
              "//\n",
              "//      http://www.apache.org/licenses/LICENSE-2.0\n",
              "//\n",
              "// Unless required by applicable law or agreed to in writing, software\n",
              "// distributed under the License is distributed on an \"AS IS\" BASIS,\n",
              "// WITHOUT WARRANTIES OR CONDITIONS OF ANY KIND, either express or implied.\n",
              "// See the License for the specific language governing permissions and\n",
              "// limitations under the License.\n",
              "\n",
              "/**\n",
              " * @fileoverview Helpers for google.colab Python module.\n",
              " */\n",
              "(function(scope) {\n",
              "function span(text, styleAttributes = {}) {\n",
              "  const element = document.createElement('span');\n",
              "  element.textContent = text;\n",
              "  for (const key of Object.keys(styleAttributes)) {\n",
              "    element.style[key] = styleAttributes[key];\n",
              "  }\n",
              "  return element;\n",
              "}\n",
              "\n",
              "// Max number of bytes which will be uploaded at a time.\n",
              "const MAX_PAYLOAD_SIZE = 100 * 1024;\n",
              "\n",
              "function _uploadFiles(inputId, outputId) {\n",
              "  const steps = uploadFilesStep(inputId, outputId);\n",
              "  const outputElement = document.getElementById(outputId);\n",
              "  // Cache steps on the outputElement to make it available for the next call\n",
              "  // to uploadFilesContinue from Python.\n",
              "  outputElement.steps = steps;\n",
              "\n",
              "  return _uploadFilesContinue(outputId);\n",
              "}\n",
              "\n",
              "// This is roughly an async generator (not supported in the browser yet),\n",
              "// where there are multiple asynchronous steps and the Python side is going\n",
              "// to poll for completion of each step.\n",
              "// This uses a Promise to block the python side on completion of each step,\n",
              "// then passes the result of the previous step as the input to the next step.\n",
              "function _uploadFilesContinue(outputId) {\n",
              "  const outputElement = document.getElementById(outputId);\n",
              "  const steps = outputElement.steps;\n",
              "\n",
              "  const next = steps.next(outputElement.lastPromiseValue);\n",
              "  return Promise.resolve(next.value.promise).then((value) => {\n",
              "    // Cache the last promise value to make it available to the next\n",
              "    // step of the generator.\n",
              "    outputElement.lastPromiseValue = value;\n",
              "    return next.value.response;\n",
              "  });\n",
              "}\n",
              "\n",
              "/**\n",
              " * Generator function which is called between each async step of the upload\n",
              " * process.\n",
              " * @param {string} inputId Element ID of the input file picker element.\n",
              " * @param {string} outputId Element ID of the output display.\n",
              " * @return {!Iterable<!Object>} Iterable of next steps.\n",
              " */\n",
              "function* uploadFilesStep(inputId, outputId) {\n",
              "  const inputElement = document.getElementById(inputId);\n",
              "  inputElement.disabled = false;\n",
              "\n",
              "  const outputElement = document.getElementById(outputId);\n",
              "  outputElement.innerHTML = '';\n",
              "\n",
              "  const pickedPromise = new Promise((resolve) => {\n",
              "    inputElement.addEventListener('change', (e) => {\n",
              "      resolve(e.target.files);\n",
              "    });\n",
              "  });\n",
              "\n",
              "  const cancel = document.createElement('button');\n",
              "  inputElement.parentElement.appendChild(cancel);\n",
              "  cancel.textContent = 'Cancel upload';\n",
              "  const cancelPromise = new Promise((resolve) => {\n",
              "    cancel.onclick = () => {\n",
              "      resolve(null);\n",
              "    };\n",
              "  });\n",
              "\n",
              "  // Wait for the user to pick the files.\n",
              "  const files = yield {\n",
              "    promise: Promise.race([pickedPromise, cancelPromise]),\n",
              "    response: {\n",
              "      action: 'starting',\n",
              "    }\n",
              "  };\n",
              "\n",
              "  cancel.remove();\n",
              "\n",
              "  // Disable the input element since further picks are not allowed.\n",
              "  inputElement.disabled = true;\n",
              "\n",
              "  if (!files) {\n",
              "    return {\n",
              "      response: {\n",
              "        action: 'complete',\n",
              "      }\n",
              "    };\n",
              "  }\n",
              "\n",
              "  for (const file of files) {\n",
              "    const li = document.createElement('li');\n",
              "    li.append(span(file.name, {fontWeight: 'bold'}));\n",
              "    li.append(span(\n",
              "        `(${file.type || 'n/a'}) - ${file.size} bytes, ` +\n",
              "        `last modified: ${\n",
              "            file.lastModifiedDate ? file.lastModifiedDate.toLocaleDateString() :\n",
              "                                    'n/a'} - `));\n",
              "    const percent = span('0% done');\n",
              "    li.appendChild(percent);\n",
              "\n",
              "    outputElement.appendChild(li);\n",
              "\n",
              "    const fileDataPromise = new Promise((resolve) => {\n",
              "      const reader = new FileReader();\n",
              "      reader.onload = (e) => {\n",
              "        resolve(e.target.result);\n",
              "      };\n",
              "      reader.readAsArrayBuffer(file);\n",
              "    });\n",
              "    // Wait for the data to be ready.\n",
              "    let fileData = yield {\n",
              "      promise: fileDataPromise,\n",
              "      response: {\n",
              "        action: 'continue',\n",
              "      }\n",
              "    };\n",
              "\n",
              "    // Use a chunked sending to avoid message size limits. See b/62115660.\n",
              "    let position = 0;\n",
              "    do {\n",
              "      const length = Math.min(fileData.byteLength - position, MAX_PAYLOAD_SIZE);\n",
              "      const chunk = new Uint8Array(fileData, position, length);\n",
              "      position += length;\n",
              "\n",
              "      const base64 = btoa(String.fromCharCode.apply(null, chunk));\n",
              "      yield {\n",
              "        response: {\n",
              "          action: 'append',\n",
              "          file: file.name,\n",
              "          data: base64,\n",
              "        },\n",
              "      };\n",
              "\n",
              "      let percentDone = fileData.byteLength === 0 ?\n",
              "          100 :\n",
              "          Math.round((position / fileData.byteLength) * 100);\n",
              "      percent.textContent = `${percentDone}% done`;\n",
              "\n",
              "    } while (position < fileData.byteLength);\n",
              "  }\n",
              "\n",
              "  // All done.\n",
              "  yield {\n",
              "    response: {\n",
              "      action: 'complete',\n",
              "    }\n",
              "  };\n",
              "}\n",
              "\n",
              "scope.google = scope.google || {};\n",
              "scope.google.colab = scope.google.colab || {};\n",
              "scope.google.colab._files = {\n",
              "  _uploadFiles,\n",
              "  _uploadFilesContinue,\n",
              "};\n",
              "})(self);\n",
              "</script> "
            ]
          },
          "metadata": {}
        },
        {
          "output_type": "stream",
          "name": "stdout",
          "text": [
            "Saving kaggle.json to kaggle.json\n"
          ]
        },
        {
          "output_type": "execute_result",
          "data": {
            "text/plain": [
              "{'kaggle.json': b'{\"username\":\"ketrum\",\"key\":\"4f7898fa6bc17d128bca596c0fb2323f\"}'}"
            ]
          },
          "metadata": {},
          "execution_count": 3
        }
      ]
    },
    {
      "cell_type": "code",
      "source": [
        "os.makedirs('/root/.kaggle', exist_ok=True)\n",
        "os.rename('kaggle.json', '/root/.kaggle/kaggle.json')"
      ],
      "metadata": {
        "id": "QFodT8LkNuZm"
      },
      "execution_count": 4,
      "outputs": []
    },
    {
      "cell_type": "code",
      "source": [
        "!kaggle datasets download -d truthisneverlinear/childrens-dental-panoramic-radiographs-dataset\n",
        "!unzip -q childrens-dental-panoramic-radiographs-dataset.zip"
      ],
      "metadata": {
        "colab": {
          "base_uri": "https://localhost:8080/"
        },
        "id": "5tThwzqXNwa-",
        "outputId": "5b257a69-6fce-48fc-ae9d-f40cfc871386"
      },
      "execution_count": 5,
      "outputs": [
        {
          "output_type": "stream",
          "name": "stdout",
          "text": [
            "Warning: Your Kaggle API key is readable by other users on this system! To fix this, you can run 'chmod 600 /root/.kaggle/kaggle.json'\n",
            "Dataset URL: https://www.kaggle.com/datasets/truthisneverlinear/childrens-dental-panoramic-radiographs-dataset\n",
            "License(s): CC0-1.0\n",
            "Downloading childrens-dental-panoramic-radiographs-dataset.zip to /content\n",
            " 98% 1.51G/1.55G [00:06<00:00, 246MB/s]\n",
            "100% 1.55G/1.55G [00:06<00:00, 268MB/s]\n"
          ]
        }
      ]
    },
    {
      "cell_type": "markdown",
      "source": [
        "Создадим класс для датасета"
      ],
      "metadata": {
        "id": "SuxlGEfUP6ul"
      }
    },
    {
      "cell_type": "code",
      "source": [
        "class MyDataset(Dataset):\n",
        "    def __init__(self, image_dir, mask_dir, transforms=None):\n",
        "        self.image_dir = image_dir\n",
        "        self.mask_dir = mask_dir\n",
        "        self.imgs = sorted([f for f in os.listdir(image_dir) if f.endswith('.jpg')])\n",
        "        self.masks = sorted([f for f in os.listdir(mask_dir) if f.endswith('.bmp') or f.endswith('.png')])\n",
        "        self.transforms = transforms\n",
        "\n",
        "    def __len__(self):\n",
        "        return len(self.imgs)\n",
        "\n",
        "    def __getitem__(self, idx):\n",
        "        img_path = os.path.join(self.image_dir, self.imgs[idx])\n",
        "        mask_path = os.path.join(self.mask_dir, self.masks[idx])\n",
        "\n",
        "        img = Image.open(img_path).convert(\"RGB\")\n",
        "        mask = Image.open(mask_path).convert(\"L\")\n",
        "\n",
        "        mask_np = np.array(mask) > 0\n",
        "\n",
        "        if self.transforms:\n",
        "            transformed = self.transforms(image=np.array(img), mask=mask_np.astype(np.uint8))\n",
        "            img_t  = transformed['image']\n",
        "            mask_t = transformed['mask'].float()\n",
        "        else:\n",
        "            img_t = TF.to_tensor(img)\n",
        "            mask_t = torch.tensor(mask_np, dtype=torch.float32)\n",
        "\n",
        "        return img_t, mask_t\n"
      ],
      "metadata": {
        "id": "Npe3UF6KStUW"
      },
      "execution_count": 6,
      "outputs": []
    },
    {
      "cell_type": "markdown",
      "source": [
        "Примеры из датасета\n"
      ],
      "metadata": {
        "id": "xyeBR2eRigwt"
      }
    },
    {
      "cell_type": "code",
      "source": [
        "def show_examples(dataset, num_examples=5):\n",
        "    fig, axes = plt.subplots(num_examples, 2, figsize=(8, 4 * num_examples))\n",
        "    for i in range(num_examples):\n",
        "        img_path = os.path.join(dataset.image_dir, dataset.imgs[i])\n",
        "        mask_path = os.path.join(dataset.mask_dir, dataset.masks[i])\n",
        "\n",
        "        img = Image.open(img_path).convert(\"RGB\")\n",
        "        mask = Image.open(mask_path).convert(\"L\")\n",
        "\n",
        "        axes[i, 0].imshow(img)\n",
        "        axes[i, 0].set_title(f'Image {i}')\n",
        "        axes[i, 0].axis('off')\n",
        "\n",
        "        axes[i, 1].imshow(mask, cmap='gray')\n",
        "        axes[i, 1].set_title(f'Mask {i}')\n",
        "        axes[i, 1].axis('off')\n",
        "\n",
        "    plt.tight_layout()\n",
        "    plt.show()\n"
      ],
      "metadata": {
        "id": "aLdPOkXAw5yK"
      },
      "execution_count": null,
      "outputs": []
    },
    {
      "cell_type": "code",
      "source": [
        "myDataset = MyDataset(\"/content/Dental_dataset/Adult tooth segmentation dataset/Dataset and code/train/images\", \"/content/Dental_dataset/Adult tooth segmentation dataset/Dataset and code/train/masks\")"
      ],
      "metadata": {
        "id": "I6NvzykcjAXf"
      },
      "execution_count": null,
      "outputs": []
    },
    {
      "cell_type": "code",
      "source": [
        "show_examples(myDataset, 3)\n"
      ],
      "metadata": {
        "colab": {
          "base_uri": "https://localhost:8080/",
          "height": 1000
        },
        "id": "KyTXTHH6wXzA",
        "outputId": "d7829699-c534-4d81-acd9-83b88813afc7"
      },
      "execution_count": null,
      "outputs": [
        {
          "output_type": "display_data",
          "data": {
            "text/plain": [
              "<Figure size 800x1200 with 6 Axes>"
            ],
            "image/png": "[encoded data removed]"
          },
          "metadata": {}
        }
      ]
    },
    {
      "cell_type": "markdown",
      "source": [
        "Подготовим данные\n",
        "\n"
      ],
      "metadata": {
        "id": "gCXBo-5SP-QV"
      }
    },
    {
      "cell_type": "code",
      "source": [
        "transform = A.Compose([\n",
        "    A.Resize(256, 256),\n",
        "    A.Normalize(mean=(0.485, 0.456, 0.406), std=(0.229, 0.224, 0.225)),\n",
        "    ToTensorV2()\n",
        "])\n",
        "\n",
        "images_dir = '/content/Dental_dataset/Adult tooth segmentation dataset/Dataset and code/train/images'\n",
        "masks_dir = '/content/Dental_dataset/Adult tooth segmentation dataset/Dataset and code/train/masks'\n",
        "\n",
        "train_dataset = MyDataset(images_dir, masks_dir, transforms=transform)\n",
        "train_dataloader = DataLoader(train_dataset, batch_size=16, shuffle=True)"
      ],
      "metadata": {
        "id": "Vy_T_2ggT5-R"
      },
      "execution_count": null,
      "outputs": []
    },
    {
      "cell_type": "code",
      "source": [
        "test_transform = A.Compose([\n",
        "    A.Resize(256, 256),\n",
        "    A.Normalize(mean=(0.485, 0.456, 0.406), std=(0.229, 0.224, 0.225)),\n",
        "    ToTensorV2()\n",
        "])\n",
        "\n",
        "test_images_dir = '/content/Dental_dataset/Adult tooth segmentation dataset/Dataset and code/test/images'\n",
        "test_masks_dir = '/content/Dental_dataset/Adult tooth segmentation dataset/Dataset and code/test/masks'\n",
        "\n",
        "test_dataset = MyDataset(test_images_dir, test_masks_dir, transforms=test_transform)\n",
        "test_dataloader = DataLoader(test_dataset, batch_size=16, shuffle=False)\n"
      ],
      "metadata": {
        "id": "AIo2krhEzsyS"
      },
      "execution_count": null,
      "outputs": []
    },
    {
      "cell_type": "markdown",
      "source": [
        "Метрики"
      ],
      "metadata": {
        "id": "KwXq-zpaTGcF"
      }
    },
    {
      "cell_type": "code",
      "source": [
        "def iou_score(preds, targets, threshold=0.5):\n",
        "    preds = (preds > threshold).int().cpu().numpy().flatten()\n",
        "    targets = targets.int().cpu().numpy().flatten()\n",
        "    return jaccard_score(targets, preds)\n",
        "\n",
        "def dice_score(preds, targets, threshold=0.5):\n",
        "    preds = (preds > threshold).int().cpu().numpy().flatten()\n",
        "    targets = targets.int().cpu().numpy().flatten()\n",
        "    return 2 * (np.sum(preds * targets)) / (np.sum(preds) + np.sum(targets) + 1e-8)\n",
        "\n",
        "def f1_score_func(preds, targets, threshold=0.5):\n",
        "    preds = (preds > threshold).int().cpu().numpy().flatten()\n",
        "    targets = targets.int().cpu().numpy().flatten()\n",
        "    return f1_score(targets, preds)\n",
        "\n",
        "def pixel_accuracy(preds, targets, threshold=0.5):\n",
        "    preds = (preds > threshold).int()\n",
        "    correct = (preds == targets).int()\n",
        "    accuracy = correct.sum().float() / torch.numel(correct)\n",
        "    return accuracy.item()"
      ],
      "metadata": {
        "id": "pBapW2bi0Vu0"
      },
      "execution_count": 7,
      "outputs": []
    },
    {
      "cell_type": "markdown",
      "source": [
        "### Сверточная модель"
      ],
      "metadata": {
        "id": "obXaPHXnOHD1"
      }
    },
    {
      "cell_type": "markdown",
      "source": [
        "#### a.\tОбучить модели (как сверточные так и «трансформерные») из torchvision для выбранного набора данных"
      ],
      "metadata": {
        "id": "VWdiJ5TfEAyU"
      }
    },
    {
      "cell_type": "code",
      "source": [
        "model = segmentation_models_pytorch.Unet(\n",
        "    encoder_name=\"resnet18\",\n",
        "    encoder_weights=\"imagenet\",\n",
        "    in_channels=3,\n",
        "    classes=1,\n",
        ")\n",
        "\n",
        "device = torch.device(\"cuda\" if torch.cuda.is_available() else \"cpu\")\n",
        "model.to(device)\n",
        "\n",
        "criterion = nn.BCEWithLogitsLoss()\n",
        "\n",
        "optimizer = optim.Adam(model.parameters(), lr=1e-4)"
      ],
      "metadata": {
        "colab": {
          "base_uri": "https://localhost:8080/",
          "height": 185,
          "referenced_widgets": [
            "d4cde16d648a4313a3bdf57120efdd9f",
            "5a87d93d1c344362b3c2ce4d64005b40",
            "126a84193434447b92ff3c6319713e78",
            "7dd11ac7beea4a04a63c5d404a50b46d",
            "b9c16ba0464946479e45a223d6acec2b",
            "91f91f02a03242d4b49bb677c0fd3726",
            "12de04c99f674eb097af4de5142fdc47",
            "c879aab1ec1e493ba86ea7e27091f0a0",
            "22c3355a19f64bb193c08b6dc3914a67",
            "6903ce60fb0140889a3194274e83c31e",
            "6450909f100e4de3bca978441f87c8e0",
            "c15f8761b7cd4551a62184dd8517adba",
            "2b6e1080678f4378b9af1934c67dd28f",
            "14443787e8604b2a8cc778bb7e471060",
            "7e5156500733450393418c9b732712aa",
            "16ce27e3e280484f8439aa5037da76a2",
            "83bf31af395e46b0a6b57b05097cd343",
            "ad8d05426c154206b68f0d22b8d8e93a",
            "a0221d27d7d04eca8e95cbeadb97a454",
            "1f563cdb4c914987b46d63666e8fbbbd",
            "d923db6c93064dbc9f0c522e56571ff1",
            "ea6afc1c643549abb4c998a8f077a6c5"
          ]
        },
        "id": "G9mjD65I0_IB",
        "outputId": "75afcc65-4233-4dec-f7cb-6acd2719e8ce"
      },
      "execution_count": null,
      "outputs": [
        {
          "output_type": "stream",
          "name": "stderr",
          "text": [
            "/usr/local/lib/python3.11/dist-packages/huggingface_hub/utils/_auth.py:94: UserWarning: \n",
            "The secret `HF_TOKEN` does not exist in your Colab secrets.\n",
            "To authenticate with the Hugging Face Hub, create a token in your settings tab (https://huggingface.co/settings/tokens), set it as secret in your Google Colab and restart your session.\n",
            "You will be able to reuse this secret in all of your notebooks.\n",
            "Please note that authentication is recommended but still optional to access public models or datasets.\n",
            "  warnings.warn(\n"
          ]
        },
        {
          "output_type": "display_data",
          "data": {
            "text/plain": [
              "config.json:   0%|          | 0.00/156 [00:00<?, ?B/s]"
            ],
            "application/vnd.jupyter.widget-view+json": {
              "version_major": 2,
              "version_minor": 0,
              "model_id": "d4cde16d648a4313a3bdf57120efdd9f"
            }
          },
          "metadata": {}
        },
        {
          "output_type": "display_data",
          "data": {
            "text/plain": [
              "model.safetensors:   0%|          | 0.00/46.8M [00:00<?, ?B/s]"
            ],
            "application/vnd.jupyter.widget-view+json": {
              "version_major": 2,
              "version_minor": 0,
              "model_id": "c15f8761b7cd4551a62184dd8517adba"
            }
          },
          "metadata": {}
        }
      ]
    },
    {
      "cell_type": "code",
      "source": [
        "epochs = 3\n",
        "\n",
        "for epoch in range(epochs):\n",
        "    model.train()\n",
        "    running_loss = 0.0\n",
        "    for images, masks in tqdm(train_dataloader, desc=f'Epoch {epoch+1}/{epochs} [Train]'):\n",
        "        images = images.to(device)\n",
        "        masks = masks.to(device).float()\n",
        "        optimizer.zero_grad()\n",
        "        outputs = model(images)\n",
        "        loss = criterion(outputs,  masks.unsqueeze(1))\n",
        "        loss.backward()\n",
        "        optimizer.step()\n",
        "        running_loss += loss.item()\n",
        "    print(f\"Epoch [{epoch+1}/{epochs}], Loss: {running_loss/len(train_dataloader)}\")"
      ],
      "metadata": {
        "colab": {
          "base_uri": "https://localhost:8080/"
        },
        "id": "JsmV41bt1B-t",
        "outputId": "3f06b589-7d0a-4d34-fe15-73aeebba1cfb"
      },
      "execution_count": null,
      "outputs": [
        {
          "output_type": "stream",
          "name": "stderr",
          "text": [
            "Epoch 1/3 [Train]: 100%|██████████| 94/94 [00:43<00:00,  2.17it/s]\n"
          ]
        },
        {
          "output_type": "stream",
          "name": "stdout",
          "text": [
            "Epoch [1/3], Loss: 0.35187927427444055\n"
          ]
        },
        {
          "output_type": "stream",
          "name": "stderr",
          "text": [
            "Epoch 2/3 [Train]: 100%|██████████| 94/94 [00:42<00:00,  2.22it/s]\n"
          ]
        },
        {
          "output_type": "stream",
          "name": "stdout",
          "text": [
            "Epoch [2/3], Loss: 0.19987547365908928\n"
          ]
        },
        {
          "output_type": "stream",
          "name": "stderr",
          "text": [
            "Epoch 3/3 [Train]: 100%|██████████| 94/94 [00:42<00:00,  2.19it/s]"
          ]
        },
        {
          "output_type": "stream",
          "name": "stdout",
          "text": [
            "Epoch [3/3], Loss: 0.15351048841121348\n"
          ]
        },
        {
          "output_type": "stream",
          "name": "stderr",
          "text": [
            "\n"
          ]
        }
      ]
    },
    {
      "cell_type": "markdown",
      "source": [
        "#### b.\tОценить качество моделей по выбранным метрикам на выбранном наборе данных\n"
      ],
      "metadata": {
        "id": "yg3ONjlXEF7U"
      }
    },
    {
      "cell_type": "code",
      "source": [
        "model.eval()\n",
        "iou_list = []\n",
        "dice_list = []\n",
        "pa_list = []\n",
        "\n",
        "with torch.no_grad():\n",
        "    for images, masks in tqdm(test_dataloader, desc=\"[Test]\"):\n",
        "        images = images.to(device)\n",
        "        masks = masks.to(device).float()\n",
        "        outputs = model(images)\n",
        "        output_probs = torch.sigmoid(outputs)\n",
        "        iou = iou_score(output_probs, masks)\n",
        "        dice = dice_score(output_probs, masks)\n",
        "        pa = pixel_accuracy(output_probs, masks)\n",
        "        iou_list.append(iou)\n",
        "        dice_list.append(dice)\n",
        "        pa_list.append(pa)\n",
        "\n",
        "avg_iou = np.mean(iou_list)\n",
        "avg_dice = np.mean(dice_list)\n",
        "avg_pa = np.mean(pa_list)\n",
        "\n",
        "print(f'IoU: {avg_iou:.4f}')\n",
        "print(f'Dice: {avg_dice:.4f}')\n",
        "print(f'Pixel_accuracy: {avg_pa:.4f}')\n",
        "\n"
      ],
      "metadata": {
        "colab": {
          "base_uri": "https://localhost:8080/"
        },
        "id": "ACODkHcv1FNt",
        "outputId": "20f26391-f10e-40e1-b366-a754e1144282"
      },
      "execution_count": null,
      "outputs": [
        {
          "output_type": "stream",
          "name": "stderr",
          "text": [
            "[Test]: 100%|██████████| 30/30 [00:14<00:00,  2.01it/s]"
          ]
        },
        {
          "output_type": "stream",
          "name": "stdout",
          "text": [
            "IoU: 0.8055\n",
            "Dice: 0.8917\n",
            "Pixel_accuracy: 0.8552\n"
          ]
        },
        {
          "output_type": "stream",
          "name": "stderr",
          "text": [
            "\n"
          ]
        }
      ]
    },
    {
      "cell_type": "markdown",
      "source": [
        "### Трансформерная модель"
      ],
      "metadata": {
        "id": "1IH58QFdOLWs"
      }
    },
    {
      "cell_type": "markdown",
      "source": [
        "#### a.\tОбучить модели (как сверточные так и «трансформерные») из torchvision для выбранного набора данных"
      ],
      "metadata": {
        "id": "RgkOUAbQGDvb"
      }
    },
    {
      "cell_type": "code",
      "source": [
        "model = segmentation_models_pytorch.Segformer(\n",
        "    encoder_name=\"mit_b0\",\n",
        "    encoder_weights=\"imagenet\",\n",
        "    in_channels=3,\n",
        "    classes=1,\n",
        ")\n",
        "\n",
        "device = torch.device(\"cuda\" if torch.cuda.is_available() else \"cpu\")\n",
        "model.to(device)\n",
        "\n",
        "criterion = nn.BCEWithLogitsLoss()\n",
        "\n",
        "optimizer = optim.Adam(model.parameters(), lr=1e-4)"
      ],
      "metadata": {
        "id": "07upU318-X12"
      },
      "execution_count": null,
      "outputs": []
    },
    {
      "cell_type": "code",
      "source": [
        "epochs = 3\n",
        "\n",
        "for epoch in range(epochs):\n",
        "    model.train()\n",
        "    running_loss = 0.0\n",
        "    for images, masks in tqdm(train_dataloader, desc=f'Epoch {epoch+1}/{epochs} [Train]'):\n",
        "        images = images.to(device)\n",
        "        masks = masks.to(device).float()\n",
        "        optimizer.zero_grad()\n",
        "        outputs = model(images)\n",
        "        loss = criterion(outputs,  masks.unsqueeze(1))\n",
        "        loss.backward()\n",
        "        optimizer.step()\n",
        "        running_loss += loss.item()\n",
        "    print(f\"Epoch [{epoch+1}/{epochs}], Loss: {running_loss/len(train_dataloader)}\")"
      ],
      "metadata": {
        "colab": {
          "base_uri": "https://localhost:8080/"
        },
        "id": "Rz9qfIJc-wil",
        "outputId": "5ee06f77-eb84-4369-c30e-1186651802d1"
      },
      "execution_count": null,
      "outputs": [
        {
          "output_type": "stream",
          "name": "stderr",
          "text": [
            "Epoch 1/3 [Train]: 100%|██████████| 94/94 [00:39<00:00,  2.40it/s]\n"
          ]
        },
        {
          "output_type": "stream",
          "name": "stdout",
          "text": [
            "Epoch [1/3], Loss: 0.313604769554544\n"
          ]
        },
        {
          "output_type": "stream",
          "name": "stderr",
          "text": [
            "Epoch 2/3 [Train]: 100%|██████████| 94/94 [00:39<00:00,  2.38it/s]\n"
          ]
        },
        {
          "output_type": "stream",
          "name": "stdout",
          "text": [
            "Epoch [2/3], Loss: 0.15778475413297086\n"
          ]
        },
        {
          "output_type": "stream",
          "name": "stderr",
          "text": [
            "Epoch 3/3 [Train]: 100%|██████████| 94/94 [00:39<00:00,  2.35it/s]"
          ]
        },
        {
          "output_type": "stream",
          "name": "stdout",
          "text": [
            "Epoch [3/3], Loss: 0.13705758354131212\n"
          ]
        },
        {
          "output_type": "stream",
          "name": "stderr",
          "text": [
            "\n"
          ]
        }
      ]
    },
    {
      "cell_type": "markdown",
      "source": [
        "#### b.\tОценить качество моделей по выбранным метрикам на выбранном наборе данных"
      ],
      "metadata": {
        "id": "eHowSH-ZGF2X"
      }
    },
    {
      "cell_type": "code",
      "source": [
        "model.eval()\n",
        "iou_list = []\n",
        "dice_list = []\n",
        "pa_list = []\n",
        "\n",
        "with torch.no_grad():\n",
        "    for images, masks in tqdm(test_dataloader, desc=\"[Test]\"):\n",
        "        images = images.to(device)\n",
        "        masks = masks.to(device).float()\n",
        "        outputs = model(images)\n",
        "        output_probs = torch.sigmoid(outputs)\n",
        "        iou = iou_score(output_probs, masks)\n",
        "        dice = dice_score(output_probs, masks)\n",
        "        pa = pixel_accuracy(output_probs, masks)\n",
        "        iou_list.append(iou)\n",
        "        dice_list.append(dice)\n",
        "        pa_list.append(pa)\n",
        "\n",
        "avg_iou = np.mean(iou_list)\n",
        "avg_dice = np.mean(dice_list)\n",
        "avg_pa = np.mean(pa_list)\n",
        "\n",
        "print(f'IoU: {avg_iou:.4f}')\n",
        "print(f'Dice: {avg_dice:.4f}')\n",
        "print(f'Pixel_accuracy: {avg_pa:.4f}')"
      ],
      "metadata": {
        "colab": {
          "base_uri": "https://localhost:8080/"
        },
        "id": "kvqbkSxd-1Oo",
        "outputId": "5d917c3b-d86a-44c4-c99d-83cbcb6a3f14"
      },
      "execution_count": null,
      "outputs": [
        {
          "output_type": "stream",
          "name": "stderr",
          "text": [
            "[Test]: 100%|██████████| 30/30 [00:13<00:00,  2.21it/s]"
          ]
        },
        {
          "output_type": "stream",
          "name": "stdout",
          "text": [
            "IoU: 0.7576\n",
            "Dice: 0.8616\n",
            "Pixel_accuracy: 0.8569\n"
          ]
        },
        {
          "output_type": "stream",
          "name": "stderr",
          "text": [
            "\n"
          ]
        }
      ]
    },
    {
      "cell_type": "markdown",
      "source": [
        "## 3.\tУлучшение бейзлайна"
      ],
      "metadata": {
        "id": "PTT1TMsMD0Cd"
      }
    },
    {
      "cell_type": "markdown",
      "source": [
        "### Сверточная модель"
      ],
      "metadata": {
        "id": "Ap-X169kLITi"
      }
    },
    {
      "cell_type": "markdown",
      "source": [
        "#### a. Сформулировать гипотезы (аугментации данных, подбор моделей, подбор гиперпараметров и т.д.)"
      ],
      "metadata": {
        "id": "-27ZeaO4Zco4"
      }
    },
    {
      "cell_type": "markdown",
      "source": [
        "1) Аугментация данных\n",
        "\n",
        "\n",
        "2) Использование оптимизатора AdamW\n",
        "\n",
        "\n",
        "3) Использование Dice Loss вместо Cross-Entropy\n"
      ],
      "metadata": {
        "id": "8xBdSw9lZco4"
      }
    },
    {
      "cell_type": "markdown",
      "source": [
        "#### b. Проверить гипотезы"
      ],
      "metadata": {
        "id": "WvrhLf_6Zco4"
      }
    },
    {
      "cell_type": "markdown",
      "source": [
        "1) Аугментация данных"
      ],
      "metadata": {
        "id": "NVpvAstDZco5"
      }
    },
    {
      "cell_type": "code",
      "source": [
        "transform = A.Compose([\n",
        "    A.Resize(256, 256),\n",
        "    A.HorizontalFlip(p=0.5),\n",
        "    A.ShiftScaleRotate(shift_limit=0.02, scale_limit=0.05, rotate_limit=15, p=0.5),\n",
        "    A.RandomBrightnessContrast(p=0.5),\n",
        "    A.CLAHE(clip_limit=2.0, tile_grid_size=(8, 8), p=0.3),\n",
        "    A.GaussianBlur(blur_limit=(3, 5), p=0.3),\n",
        "    A.Normalize(mean=(0.485, 0.456, 0.406), std=(0.229, 0.224, 0.225)),\n",
        "    ToTensorV2()\n",
        "])\n",
        "\n",
        "images_dir = '/content/Dental_dataset/Adult tooth segmentation dataset/Dataset and code/train/images'\n",
        "masks_dir = '/content/Dental_dataset/Adult tooth segmentation dataset/Dataset and code/train/masks'\n",
        "\n",
        "train_dataset = MyDataset(images_dir, masks_dir, transforms=transform)\n",
        "train_dataloader = DataLoader(train_dataset, batch_size=16, shuffle=True)"
      ],
      "metadata": {
        "id": "q3vDnzCOZco5"
      },
      "execution_count": null,
      "outputs": []
    },
    {
      "cell_type": "code",
      "source": [
        "test_transform = A.Compose([\n",
        "    A.Resize(256, 256),\n",
        "    A.Normalize(mean=(0.485, 0.456, 0.406), std=(0.229, 0.224, 0.225)),\n",
        "    ToTensorV2()\n",
        "])\n",
        "\n",
        "test_images_dir = '/content/Dental_dataset/Adult tooth segmentation dataset/Dataset and code/test/images'\n",
        "test_masks_dir = '/content/Dental_dataset/Adult tooth segmentation dataset/Dataset and code/test/masks'\n",
        "\n",
        "test_dataset = MyDataset(test_images_dir, test_masks_dir, transforms=test_transform)\n",
        "test_dataloader = DataLoader(test_dataset, batch_size=16, shuffle=False)\n"
      ],
      "metadata": {
        "id": "MYdSg8zPZco5"
      },
      "execution_count": null,
      "outputs": []
    },
    {
      "cell_type": "code",
      "source": [
        "model = segmentation_models_pytorch.Unet(\n",
        "    encoder_name=\"resnet18\",\n",
        "    encoder_weights=\"imagenet\",\n",
        "    in_channels=3,\n",
        "    classes=1,\n",
        ")\n",
        "\n",
        "device = torch.device(\"cuda\" if torch.cuda.is_available() else \"cpu\")\n",
        "model.to(device)\n",
        "\n",
        "criterion = nn.BCEWithLogitsLoss()\n",
        "\n",
        "optimizer = optim.Adam(model.parameters(), lr=1e-4)"
      ],
      "metadata": {
        "id": "DNnB_j9ZZco5"
      },
      "execution_count": null,
      "outputs": []
    },
    {
      "cell_type": "code",
      "source": [
        "epochs = 3\n",
        "\n",
        "for epoch in range(epochs):\n",
        "    model.train()\n",
        "    running_loss = 0.0\n",
        "    for images, masks in tqdm(train_dataloader, desc=f'Epoch {epoch+1}/{epochs} [Train]'):\n",
        "        images = images.to(device)\n",
        "        masks = masks.to(device).float()\n",
        "        optimizer.zero_grad()\n",
        "        outputs = model(images)\n",
        "        loss = criterion(outputs,  masks.unsqueeze(1))\n",
        "        loss.backward()\n",
        "        optimizer.step()\n",
        "        running_loss += loss.item()\n",
        "    print(f\"Epoch [{epoch+1}/{epochs}], Loss: {running_loss/len(train_dataloader)}\")"
      ],
      "metadata": {
        "colab": {
          "base_uri": "https://localhost:8080/"
        },
        "outputId": "39495f6e-078a-440d-88b0-45abd8f528f4",
        "id": "F6s-hPwDZco5"
      },
      "execution_count": null,
      "outputs": [
        {
          "output_type": "stream",
          "name": "stderr",
          "text": [
            "Epoch 1/3 [Train]: 100%|██████████| 94/94 [00:46<00:00,  2.01it/s]\n"
          ]
        },
        {
          "output_type": "stream",
          "name": "stdout",
          "text": [
            "Epoch [1/3], Loss: 0.47981162242432857\n"
          ]
        },
        {
          "output_type": "stream",
          "name": "stderr",
          "text": [
            "Epoch 2/3 [Train]: 100%|██████████| 94/94 [00:44<00:00,  2.10it/s]\n"
          ]
        },
        {
          "output_type": "stream",
          "name": "stdout",
          "text": [
            "Epoch [2/3], Loss: 0.2912377860951931\n"
          ]
        },
        {
          "output_type": "stream",
          "name": "stderr",
          "text": [
            "Epoch 3/3 [Train]: 100%|██████████| 94/94 [00:49<00:00,  1.91it/s]"
          ]
        },
        {
          "output_type": "stream",
          "name": "stdout",
          "text": [
            "Epoch [3/3], Loss: 0.21996972789155675\n"
          ]
        },
        {
          "output_type": "stream",
          "name": "stderr",
          "text": [
            "\n"
          ]
        }
      ]
    },
    {
      "cell_type": "code",
      "source": [
        "model.eval()\n",
        "iou_list = []\n",
        "dice_list = []\n",
        "pa_list = []\n",
        "\n",
        "with torch.no_grad():\n",
        "    for images, masks in tqdm(test_dataloader, desc=\"[Test]\"):\n",
        "        images = images.to(device)\n",
        "        masks = masks.to(device).float()\n",
        "        outputs = model(images)\n",
        "        output_probs = torch.sigmoid(outputs)\n",
        "        iou = iou_score(output_probs, masks)\n",
        "        dice = dice_score(output_probs, masks)\n",
        "        pa = pixel_accuracy(output_probs, masks)\n",
        "        iou_list.append(iou)\n",
        "        dice_list.append(dice)\n",
        "        pa_list.append(pa)\n",
        "\n",
        "avg_iou = np.mean(iou_list)\n",
        "avg_dice = np.mean(dice_list)\n",
        "avg_pa = np.mean(pa_list)\n",
        "\n",
        "print(f'IoU: {avg_iou:.4f}')\n",
        "print(f'Dice: {avg_dice:.4f}')\n",
        "print(f'Pixel_accuracy: {avg_pa:.4f}')\n",
        "\n"
      ],
      "metadata": {
        "colab": {
          "base_uri": "https://localhost:8080/"
        },
        "outputId": "36826431-faa7-4888-ecc6-f3d77e1dd815",
        "id": "Vf57PygMZco5"
      },
      "execution_count": null,
      "outputs": [
        {
          "output_type": "stream",
          "name": "stderr",
          "text": [
            "[Test]: 100%|██████████| 30/30 [00:13<00:00,  2.19it/s]"
          ]
        },
        {
          "output_type": "stream",
          "name": "stdout",
          "text": [
            "IoU: 0.7758\n",
            "Dice: 0.8735\n",
            "Pixel_accuracy: 0.8555\n"
          ]
        },
        {
          "output_type": "stream",
          "name": "stderr",
          "text": [
            "\n"
          ]
        }
      ]
    },
    {
      "cell_type": "markdown",
      "source": [
        "2) Использование оптимизатора AdamW\n"
      ],
      "metadata": {
        "id": "be3ZoUVoZco5"
      }
    },
    {
      "cell_type": "code",
      "source": [
        "transform = A.Compose([\n",
        "    A.Resize(256, 256),\n",
        "    A.Normalize(mean=(0.485, 0.456, 0.406), std=(0.229, 0.224, 0.225)),\n",
        "    ToTensorV2()\n",
        "])\n",
        "\n",
        "images_dir = '/content/Dental_dataset/Adult tooth segmentation dataset/Dataset and code/train/images'\n",
        "masks_dir = '/content/Dental_dataset/Adult tooth segmentation dataset/Dataset and code/train/masks'\n",
        "\n",
        "train_dataset = MyDataset(images_dir, masks_dir, transforms=transform)\n",
        "train_dataloader = DataLoader(train_dataset, batch_size=16, shuffle=True)"
      ],
      "metadata": {
        "id": "1pBniqxaZco5"
      },
      "execution_count": null,
      "outputs": []
    },
    {
      "cell_type": "code",
      "source": [
        "test_transform = A.Compose([\n",
        "    A.Resize(256, 256),\n",
        "    A.Normalize(mean=(0.485, 0.456, 0.406), std=(0.229, 0.224, 0.225)),\n",
        "    ToTensorV2()\n",
        "])\n",
        "\n",
        "test_images_dir = '/content/Dental_dataset/Adult tooth segmentation dataset/Dataset and code/test/images'\n",
        "test_masks_dir = '/content/Dental_dataset/Adult tooth segmentation dataset/Dataset and code/test/masks'\n",
        "\n",
        "test_dataset = MyDataset(test_images_dir, test_masks_dir, transforms=test_transform)\n",
        "test_dataloader = DataLoader(test_dataset, batch_size=16, shuffle=False)\n"
      ],
      "metadata": {
        "id": "3cljhYjGZco6"
      },
      "execution_count": null,
      "outputs": []
    },
    {
      "cell_type": "code",
      "source": [
        "model = segmentation_models_pytorch.Unet(\n",
        "    encoder_name=\"resnet18\",\n",
        "    encoder_weights=\"imagenet\",\n",
        "    in_channels=3,\n",
        "    classes=1,\n",
        ")\n",
        "\n",
        "device = torch.device(\"cuda\" if torch.cuda.is_available() else \"cpu\")\n",
        "model.to(device)\n",
        "\n",
        "criterion = nn.BCEWithLogitsLoss()\n",
        "\n",
        "optimizer = torch.optim.AdamW(model.parameters(), lr=1e-4, weight_decay=1e-5)"
      ],
      "metadata": {
        "id": "xRuJkNShZco6"
      },
      "execution_count": null,
      "outputs": []
    },
    {
      "cell_type": "code",
      "source": [
        "epochs = 3\n",
        "\n",
        "for epoch in range(epochs):\n",
        "    model.train()\n",
        "    running_loss = 0.0\n",
        "    for images, masks in tqdm(train_dataloader, desc=f'Epoch {epoch+1}/{epochs} [Train]'):\n",
        "        images = images.to(device)\n",
        "        masks = masks.to(device).float()\n",
        "        optimizer.zero_grad()\n",
        "        outputs = model(images)\n",
        "        loss = criterion(outputs,  masks.unsqueeze(1))\n",
        "        loss.backward()\n",
        "        optimizer.step()\n",
        "        running_loss += loss.item()\n",
        "    print(f\"Epoch [{epoch+1}/{epochs}], Loss: {running_loss/len(train_dataloader)}\")"
      ],
      "metadata": {
        "colab": {
          "base_uri": "https://localhost:8080/"
        },
        "outputId": "e2082e8c-7185-4f18-ae0c-dff7b9ac66ca",
        "id": "QeW6RHZaZco6"
      },
      "execution_count": null,
      "outputs": [
        {
          "output_type": "stream",
          "name": "stderr",
          "text": [
            "Epoch 1/3 [Train]: 100%|██████████| 94/94 [00:43<00:00,  2.15it/s]\n"
          ]
        },
        {
          "output_type": "stream",
          "name": "stdout",
          "text": [
            "Epoch [1/3], Loss: 0.38109541383195433\n"
          ]
        },
        {
          "output_type": "stream",
          "name": "stderr",
          "text": [
            "Epoch 2/3 [Train]: 100%|██████████| 94/94 [00:43<00:00,  2.15it/s]\n"
          ]
        },
        {
          "output_type": "stream",
          "name": "stdout",
          "text": [
            "Epoch [2/3], Loss: 0.20860632588254643\n"
          ]
        },
        {
          "output_type": "stream",
          "name": "stderr",
          "text": [
            "Epoch 3/3 [Train]: 100%|██████████| 94/94 [00:49<00:00,  1.90it/s]"
          ]
        },
        {
          "output_type": "stream",
          "name": "stdout",
          "text": [
            "Epoch [3/3], Loss: 0.1552275184621202\n"
          ]
        },
        {
          "output_type": "stream",
          "name": "stderr",
          "text": [
            "\n"
          ]
        }
      ]
    },
    {
      "cell_type": "code",
      "source": [
        "model.eval()\n",
        "iou_list = []\n",
        "dice_list = []\n",
        "pa_list = []\n",
        "\n",
        "with torch.no_grad():\n",
        "    for images, masks in tqdm(test_dataloader, desc=\"[Test]\"):\n",
        "        images = images.to(device)\n",
        "        masks = masks.to(device).float()\n",
        "        outputs = model(images)\n",
        "        output_probs = torch.sigmoid(outputs)\n",
        "        iou = iou_score(output_probs, masks)\n",
        "        dice = dice_score(output_probs, masks)\n",
        "        pa = pixel_accuracy(output_probs, masks)\n",
        "        iou_list.append(iou)\n",
        "        dice_list.append(dice)\n",
        "        pa_list.append(pa)\n",
        "\n",
        "avg_iou = np.mean(iou_list)\n",
        "avg_dice = np.mean(dice_list)\n",
        "avg_pa = np.mean(pa_list)\n",
        "\n",
        "print(f'IoU: {avg_iou:.4f}')\n",
        "print(f'Dice: {avg_dice:.4f}')\n",
        "print(f'Pixel_accuracy: {avg_pa:.4f}')\n",
        "\n"
      ],
      "metadata": {
        "colab": {
          "base_uri": "https://localhost:8080/"
        },
        "outputId": "5708f3a4-f3c0-446d-d5f4-8b2e134b7f45",
        "id": "QrkjtkdSZco6"
      },
      "execution_count": null,
      "outputs": [
        {
          "output_type": "stream",
          "name": "stderr",
          "text": [
            "[Test]: 100%|██████████| 30/30 [00:13<00:00,  2.21it/s]"
          ]
        },
        {
          "output_type": "stream",
          "name": "stdout",
          "text": [
            "IoU: 0.8175\n",
            "Dice: 0.8993\n",
            "Pixel_accuracy: 0.8555\n"
          ]
        },
        {
          "output_type": "stream",
          "name": "stderr",
          "text": [
            "\n"
          ]
        }
      ]
    },
    {
      "cell_type": "markdown",
      "source": [
        "3) Использование Dice Loss вместо Cross-Entropy\n"
      ],
      "metadata": {
        "id": "G6RlSf13Zco6"
      }
    },
    {
      "cell_type": "code",
      "source": [
        "transform = A.Compose([\n",
        "    A.Resize(256, 256),\n",
        "    A.Normalize(mean=(0.485, 0.456, 0.406), std=(0.229, 0.224, 0.225)),\n",
        "    ToTensorV2()\n",
        "])\n",
        "\n",
        "images_dir = '/content/Dental_dataset/Adult tooth segmentation dataset/Dataset and code/train/images'\n",
        "masks_dir = '/content/Dental_dataset/Adult tooth segmentation dataset/Dataset and code/train/masks'\n",
        "\n",
        "train_dataset = MyDataset(images_dir, masks_dir, transforms=transform)\n",
        "train_dataloader = DataLoader(train_dataset, batch_size=16, shuffle=True)"
      ],
      "metadata": {
        "id": "ONs4vg0fZco6"
      },
      "execution_count": null,
      "outputs": []
    },
    {
      "cell_type": "code",
      "source": [
        "test_transform = A.Compose([\n",
        "    A.Resize(256, 256),\n",
        "    A.Normalize(mean=(0.485, 0.456, 0.406), std=(0.229, 0.224, 0.225)),\n",
        "    ToTensorV2()\n",
        "])\n",
        "\n",
        "test_images_dir = '/content/Dental_dataset/Adult tooth segmentation dataset/Dataset and code/test/images'\n",
        "test_masks_dir = '/content/Dental_dataset/Adult tooth segmentation dataset/Dataset and code/test/masks'\n",
        "\n",
        "test_dataset = MyDataset(test_images_dir, test_masks_dir, transforms=test_transform)\n",
        "test_dataloader = DataLoader(test_dataset, batch_size=16, shuffle=False)\n"
      ],
      "metadata": {
        "id": "oUuC_edVZco6"
      },
      "execution_count": null,
      "outputs": []
    },
    {
      "cell_type": "code",
      "source": [
        "model = segmentation_models_pytorch.Unet(\n",
        "    encoder_name=\"resnet18\",\n",
        "    encoder_weights=\"imagenet\",\n",
        "    in_channels=3,\n",
        "    classes=1,\n",
        ")\n",
        "\n",
        "device = torch.device(\"cuda\" if torch.cuda.is_available() else \"cpu\")\n",
        "model.to(device)\n",
        "\n",
        "criterion = segmentation_models_pytorch.losses.DiceLoss(mode='binary')\n",
        "\n",
        "optimizer = optim.Adam(model.parameters(), lr=1e-4)"
      ],
      "metadata": {
        "id": "DwfRsQJVZco6"
      },
      "execution_count": null,
      "outputs": []
    },
    {
      "cell_type": "code",
      "source": [
        "epochs = 3\n",
        "\n",
        "for epoch in range(epochs):\n",
        "    model.train()\n",
        "    running_loss = 0.0\n",
        "    for images, masks in tqdm(train_dataloader, desc=f'Epoch {epoch+1}/{epochs} [Train]'):\n",
        "        images = images.to(device)\n",
        "        masks = masks.to(device).float()\n",
        "        optimizer.zero_grad()\n",
        "        outputs = model(images)\n",
        "        loss = criterion(outputs,  masks.unsqueeze(1))\n",
        "        loss.backward()\n",
        "        optimizer.step()\n",
        "        running_loss += loss.item()\n",
        "    print(f\"Epoch [{epoch+1}/{epochs}], Loss: {running_loss/len(train_dataloader)}\")"
      ],
      "metadata": {
        "colab": {
          "base_uri": "https://localhost:8080/"
        },
        "outputId": "6dcbead8-fa39-4622-e0fb-131cfa9d5f89",
        "id": "CgaqglbgZco6"
      },
      "execution_count": null,
      "outputs": [
        {
          "output_type": "stream",
          "name": "stderr",
          "text": [
            "Epoch 1/3 [Train]: 100%|██████████| 94/94 [00:44<00:00,  2.10it/s]\n"
          ]
        },
        {
          "output_type": "stream",
          "name": "stdout",
          "text": [
            "Epoch [1/3], Loss: 0.3814969861761053\n"
          ]
        },
        {
          "output_type": "stream",
          "name": "stderr",
          "text": [
            "Epoch 2/3 [Train]: 100%|██████████| 94/94 [00:43<00:00,  2.14it/s]\n"
          ]
        },
        {
          "output_type": "stream",
          "name": "stdout",
          "text": [
            "Epoch [2/3], Loss: 0.2244514467868399\n"
          ]
        },
        {
          "output_type": "stream",
          "name": "stderr",
          "text": [
            "Epoch 3/3 [Train]: 100%|██████████| 94/94 [00:43<00:00,  2.14it/s]"
          ]
        },
        {
          "output_type": "stream",
          "name": "stdout",
          "text": [
            "Epoch [3/3], Loss: 0.17040058399768584\n"
          ]
        },
        {
          "output_type": "stream",
          "name": "stderr",
          "text": [
            "\n"
          ]
        }
      ]
    },
    {
      "cell_type": "code",
      "source": [
        "model.eval()\n",
        "iou_list = []\n",
        "dice_list = []\n",
        "pa_list = []\n",
        "\n",
        "with torch.no_grad():\n",
        "    for images, masks in tqdm(test_dataloader, desc=\"[Test]\"):\n",
        "        images = images.to(device)\n",
        "        masks = masks.to(device).float()\n",
        "        outputs = model(images)\n",
        "        output_probs = torch.sigmoid(outputs)\n",
        "        iou = iou_score(output_probs, masks)\n",
        "        dice = dice_score(output_probs, masks)\n",
        "        pa = pixel_accuracy(output_probs, masks)\n",
        "        iou_list.append(iou)\n",
        "        dice_list.append(dice)\n",
        "        pa_list.append(pa)\n",
        "\n",
        "avg_iou = np.mean(iou_list)\n",
        "avg_dice = np.mean(dice_list)\n",
        "avg_pa = np.mean(pa_list)\n",
        "\n",
        "print(f'IoU: {avg_iou:.4f}')\n",
        "print(f'Dice: {avg_dice:.4f}')\n",
        "print(f'Pixel_accuracy: {avg_pa:.4f}')\n",
        "\n"
      ],
      "metadata": {
        "colab": {
          "base_uri": "https://localhost:8080/"
        },
        "outputId": "bcde8e2b-4cd2-4a33-f783-ea28277775dc",
        "id": "EhnzmuZIZco6"
      },
      "execution_count": null,
      "outputs": [
        {
          "output_type": "stream",
          "name": "stderr",
          "text": [
            "[Test]: 100%|██████████| 30/30 [00:14<00:00,  2.11it/s]"
          ]
        },
        {
          "output_type": "stream",
          "name": "stdout",
          "text": [
            "IoU: 0.7775\n",
            "Dice: 0.8739\n",
            "Pixel_accuracy: 0.8575\n"
          ]
        },
        {
          "output_type": "stream",
          "name": "stderr",
          "text": [
            "\n"
          ]
        }
      ]
    },
    {
      "cell_type": "markdown",
      "source": [
        "####  c. Сформировать улучшенный бейзлайн по результатам проверки гипотез"
      ],
      "metadata": {
        "id": "IiuRecpIZco7"
      }
    },
    {
      "cell_type": "markdown",
      "source": [
        "В результате проверки гипотез улучшение качества показала только замена оптимизатора Adam на AdamW"
      ],
      "metadata": {
        "id": "uYvVNsoUZco7"
      }
    },
    {
      "cell_type": "markdown",
      "source": [
        "#### d. Обучить модели с улучшенным бейзлайном на выбранном наборе данных"
      ],
      "metadata": {
        "id": "WchYCuDeZco7"
      }
    },
    {
      "cell_type": "code",
      "source": [
        "transform = A.Compose([\n",
        "    A.Resize(256, 256),\n",
        "    A.Normalize(mean=(0.485, 0.456, 0.406), std=(0.229, 0.224, 0.225)),\n",
        "    ToTensorV2()\n",
        "])\n",
        "\n",
        "images_dir = '/content/Dental_dataset/Adult tooth segmentation dataset/Dataset and code/train/images'\n",
        "masks_dir = '/content/Dental_dataset/Adult tooth segmentation dataset/Dataset and code/train/masks'\n",
        "\n",
        "train_dataset = MyDataset(images_dir, masks_dir, transforms=transform)\n",
        "train_dataloader = DataLoader(train_dataset, batch_size=16, shuffle=True)"
      ],
      "metadata": {
        "id": "f9-Rqsyppx5J"
      },
      "execution_count": null,
      "outputs": []
    },
    {
      "cell_type": "code",
      "source": [
        "test_transform = A.Compose([\n",
        "    A.Resize(256, 256),\n",
        "    A.Normalize(mean=(0.485, 0.456, 0.406), std=(0.229, 0.224, 0.225)),\n",
        "    ToTensorV2()\n",
        "])\n",
        "\n",
        "test_images_dir = '/content/Dental_dataset/Adult tooth segmentation dataset/Dataset and code/test/images'\n",
        "test_masks_dir = '/content/Dental_dataset/Adult tooth segmentation dataset/Dataset and code/test/masks'\n",
        "\n",
        "test_dataset = MyDataset(test_images_dir, test_masks_dir, transforms=test_transform)\n",
        "test_dataloader = DataLoader(test_dataset, batch_size=16, shuffle=False)\n"
      ],
      "metadata": {
        "id": "2pSlskNSpx5K"
      },
      "execution_count": null,
      "outputs": []
    },
    {
      "cell_type": "code",
      "source": [
        "model = segmentation_models_pytorch.Unet(\n",
        "    encoder_name=\"resnet18\",\n",
        "    encoder_weights=\"imagenet\",\n",
        "    in_channels=3,\n",
        "    classes=1,\n",
        ")\n",
        "\n",
        "device = torch.device(\"cuda\" if torch.cuda.is_available() else \"cpu\")\n",
        "model.to(device)\n",
        "\n",
        "criterion = nn.BCEWithLogitsLoss()\n",
        "\n",
        "optimizer = torch.optim.AdamW(model.parameters(), lr=1e-4, weight_decay=1e-5)"
      ],
      "metadata": {
        "id": "EZi1E7Yhpx5K"
      },
      "execution_count": null,
      "outputs": []
    },
    {
      "cell_type": "code",
      "source": [
        "epochs = 3\n",
        "\n",
        "for epoch in range(epochs):\n",
        "    model.train()\n",
        "    running_loss = 0.0\n",
        "    for images, masks in tqdm(train_dataloader, desc=f'Epoch {epoch+1}/{epochs} [Train]'):\n",
        "        images = images.to(device)\n",
        "        masks = masks.to(device).float()\n",
        "        optimizer.zero_grad()\n",
        "        outputs = model(images)\n",
        "        loss = criterion(outputs,  masks.unsqueeze(1))\n",
        "        loss.backward()\n",
        "        optimizer.step()\n",
        "        running_loss += loss.item()\n",
        "    print(f\"Epoch [{epoch+1}/{epochs}], Loss: {running_loss/len(train_dataloader)}\")"
      ],
      "metadata": {
        "colab": {
          "base_uri": "https://localhost:8080/"
        },
        "outputId": "e2082e8c-7185-4f18-ae0c-dff7b9ac66ca",
        "id": "WHj_cX-Epx5K"
      },
      "execution_count": null,
      "outputs": [
        {
          "output_type": "stream",
          "name": "stderr",
          "text": [
            "Epoch 1/3 [Train]: 100%|██████████| 94/94 [00:43<00:00,  2.15it/s]\n"
          ]
        },
        {
          "output_type": "stream",
          "name": "stdout",
          "text": [
            "Epoch [1/3], Loss: 0.38109541383195433\n"
          ]
        },
        {
          "output_type": "stream",
          "name": "stderr",
          "text": [
            "Epoch 2/3 [Train]: 100%|██████████| 94/94 [00:43<00:00,  2.15it/s]\n"
          ]
        },
        {
          "output_type": "stream",
          "name": "stdout",
          "text": [
            "Epoch [2/3], Loss: 0.20860632588254643\n"
          ]
        },
        {
          "output_type": "stream",
          "name": "stderr",
          "text": [
            "Epoch 3/3 [Train]: 100%|██████████| 94/94 [00:49<00:00,  1.90it/s]"
          ]
        },
        {
          "output_type": "stream",
          "name": "stdout",
          "text": [
            "Epoch [3/3], Loss: 0.1552275184621202\n"
          ]
        },
        {
          "output_type": "stream",
          "name": "stderr",
          "text": [
            "\n"
          ]
        }
      ]
    },
    {
      "cell_type": "markdown",
      "source": [
        "#### e. Оценить качество моделей с улучшенным бейзлайном по выбранным метрикам на выбранном наборе данных"
      ],
      "metadata": {
        "id": "lrfw12u1Zco7"
      }
    },
    {
      "cell_type": "code",
      "source": [
        "model.eval()\n",
        "iou_list = []\n",
        "dice_list = []\n",
        "pa_list = []\n",
        "\n",
        "with torch.no_grad():\n",
        "    for images, masks in tqdm(test_dataloader, desc=\"[Test]\"):\n",
        "        images = images.to(device)\n",
        "        masks = masks.to(device).float()\n",
        "        outputs = model(images)\n",
        "        output_probs = torch.sigmoid(outputs)\n",
        "        iou = iou_score(output_probs, masks)\n",
        "        dice = dice_score(output_probs, masks)\n",
        "        pa = pixel_accuracy(output_probs, masks)\n",
        "        iou_list.append(iou)\n",
        "        dice_list.append(dice)\n",
        "        pa_list.append(pa)\n",
        "\n",
        "avg_iou = np.mean(iou_list)\n",
        "avg_dice = np.mean(dice_list)\n",
        "avg_pa = np.mean(pa_list)\n",
        "\n",
        "print(f'IoU: {avg_iou:.4f}')\n",
        "print(f'Dice: {avg_dice:.4f}')\n",
        "print(f'Pixel_accuracy: {avg_pa:.4f}')\n",
        "\n"
      ],
      "metadata": {
        "colab": {
          "base_uri": "https://localhost:8080/"
        },
        "outputId": "5708f3a4-f3c0-446d-d5f4-8b2e134b7f45",
        "id": "A6mpeKrFpx5K"
      },
      "execution_count": null,
      "outputs": [
        {
          "output_type": "stream",
          "name": "stderr",
          "text": [
            "[Test]: 100%|██████████| 30/30 [00:13<00:00,  2.21it/s]"
          ]
        },
        {
          "output_type": "stream",
          "name": "stdout",
          "text": [
            "IoU: 0.8175\n",
            "Dice: 0.8993\n",
            "Pixel_accuracy: 0.8555\n"
          ]
        },
        {
          "output_type": "stream",
          "name": "stderr",
          "text": [
            "\n"
          ]
        }
      ]
    },
    {
      "cell_type": "markdown",
      "source": [
        "#### f. Сравнить результаты моделей с улучшенным бейзлайном в сравнении с результатами из пункта 2"
      ],
      "metadata": {
        "id": "fhzS0klbZco8"
      }
    },
    {
      "cell_type": "markdown",
      "source": [
        "Бейзлайн IoU: 0.8055\n",
        "Dice: 0.8917\n",
        "Pixel_accuracy: 0.8552\n",
        "\n",
        "Улучшенный бейзлайн IoU: 0.8175\n",
        "Dice: 0.8993\n",
        "Pixel_accuracy: 0.8555"
      ],
      "metadata": {
        "id": "uqLimC5bZco8"
      }
    },
    {
      "cell_type": "markdown",
      "source": [
        "#### g. Сделать выводы"
      ],
      "metadata": {
        "id": "puYTeZnCZco8"
      }
    },
    {
      "cell_type": "markdown",
      "source": [
        "Таикм образом, с помощью гипотез удалось добится небольшого улучшения"
      ],
      "metadata": {
        "id": "wy0feLHRZco8"
      }
    },
    {
      "cell_type": "markdown",
      "source": [
        "### Трансформерная модель"
      ],
      "metadata": {
        "id": "EHlCpZQKacId"
      }
    },
    {
      "cell_type": "markdown",
      "source": [
        "#### a. Сформулировать гипотезы (аугментации данных, подбор моделей, подбор гиперпараметров и т.д.)"
      ],
      "metadata": {
        "id": "nD2RyBefEMZr"
      }
    },
    {
      "cell_type": "markdown",
      "source": [
        "1) Аугментация данных\n",
        "\n",
        "\n",
        "2) Использование оптимизатора AdamW\n",
        "\n",
        "\n",
        "3) Использование Dice Loss вместо Cross-Entropy"
      ],
      "metadata": {
        "id": "yh_EwkU0Jaw5"
      }
    },
    {
      "cell_type": "markdown",
      "source": [
        "#### b. Проверить гипотезы"
      ],
      "metadata": {
        "id": "H-x2RsqQEMOr"
      }
    },
    {
      "cell_type": "markdown",
      "source": [
        "1) Аугментация данных"
      ],
      "metadata": {
        "id": "GHlnKz0sLcjk"
      }
    },
    {
      "cell_type": "code",
      "source": [
        "transform = A.Compose([\n",
        "    A.Resize(256, 256),\n",
        "    A.HorizontalFlip(p=0.5),\n",
        "    A.ShiftScaleRotate(shift_limit=0.02, scale_limit=0.05, rotate_limit=15, p=0.5),\n",
        "    A.RandomBrightnessContrast(p=0.5),\n",
        "    A.CLAHE(clip_limit=2.0, tile_grid_size=(8, 8), p=0.3),\n",
        "    A.GaussianBlur(blur_limit=(3, 5), p=0.3),\n",
        "    A.Normalize(mean=(0.485, 0.456, 0.406), std=(0.229, 0.224, 0.225)),\n",
        "    ToTensorV2()\n",
        "])\n",
        "\n",
        "images_dir = '/content/Dental_dataset/Adult tooth segmentation dataset/Dataset and code/train/images'\n",
        "masks_dir = '/content/Dental_dataset/Adult tooth segmentation dataset/Dataset and code/train/masks'\n",
        "\n",
        "train_dataset = MyDataset(images_dir, masks_dir, transforms=transform)\n",
        "train_dataloader = DataLoader(train_dataset, batch_size=16, shuffle=True)"
      ],
      "metadata": {
        "id": "D1eZdauXLanQ",
        "colab": {
          "base_uri": "https://localhost:8080/"
        },
        "outputId": "d52dff0f-8360-4650-edd3-efaaac7191d1"
      },
      "execution_count": null,
      "outputs": [
        {
          "output_type": "stream",
          "name": "stderr",
          "text": [
            "/usr/local/lib/python3.11/dist-packages/albumentations/core/validation.py:111: UserWarning: ShiftScaleRotate is a special case of Affine transform. Please use Affine transform instead.\n",
            "  original_init(self, **validated_kwargs)\n"
          ]
        }
      ]
    },
    {
      "cell_type": "code",
      "source": [
        "test_transform = A.Compose([\n",
        "    A.Resize(256, 256),\n",
        "    A.Normalize(mean=(0.485, 0.456, 0.406), std=(0.229, 0.224, 0.225)),\n",
        "    ToTensorV2()\n",
        "])\n",
        "\n",
        "test_images_dir = '/content/Dental_dataset/Adult tooth segmentation dataset/Dataset and code/test/images'\n",
        "test_masks_dir = '/content/Dental_dataset/Adult tooth segmentation dataset/Dataset and code/test/masks'\n",
        "\n",
        "test_dataset = MyDataset(test_images_dir, test_masks_dir, transforms=test_transform)\n",
        "test_dataloader = DataLoader(test_dataset, batch_size=16, shuffle=False)\n"
      ],
      "metadata": {
        "id": "3-7TjponLanR"
      },
      "execution_count": null,
      "outputs": []
    },
    {
      "cell_type": "code",
      "source": [
        "model = segmentation_models_pytorch.Segformer(\n",
        "    encoder_name=\"mit_b0\",\n",
        "    encoder_weights=\"imagenet\",\n",
        "    in_channels=3,\n",
        "    classes=1,\n",
        ")\n",
        "\n",
        "device = torch.device(\"cuda\" if torch.cuda.is_available() else \"cpu\")\n",
        "model.to(device)\n",
        "\n",
        "criterion = nn.BCEWithLogitsLoss()\n",
        "\n",
        "optimizer = optim.Adam(model.parameters(), lr=1e-4)"
      ],
      "metadata": {
        "id": "JaOoy9_8LanR"
      },
      "execution_count": null,
      "outputs": []
    },
    {
      "cell_type": "code",
      "source": [
        "epochs = 3\n",
        "\n",
        "for epoch in range(epochs):\n",
        "    model.train()\n",
        "    running_loss = 0.0\n",
        "    for images, masks in tqdm(train_dataloader, desc=f'Epoch {epoch+1}/{epochs} [Train]'):\n",
        "        images = images.to(device)\n",
        "        masks = masks.to(device).float()\n",
        "        optimizer.zero_grad()\n",
        "        outputs = model(images)\n",
        "        loss = criterion(outputs,  masks.unsqueeze(1))\n",
        "        loss.backward()\n",
        "        optimizer.step()\n",
        "        running_loss += loss.item()\n",
        "    print(f\"Epoch [{epoch+1}/{epochs}], Loss: {running_loss/len(train_dataloader)}\")"
      ],
      "metadata": {
        "colab": {
          "base_uri": "https://localhost:8080/"
        },
        "outputId": "cbfbeda1-0ff7-4c39-c323-225182f60e88",
        "id": "F2wd7in4LanR"
      },
      "execution_count": null,
      "outputs": [
        {
          "output_type": "stream",
          "name": "stderr",
          "text": [
            "Epoch 1/3 [Train]: 100%|██████████| 94/94 [00:42<00:00,  2.21it/s]\n"
          ]
        },
        {
          "output_type": "stream",
          "name": "stdout",
          "text": [
            "Epoch [1/3], Loss: 0.2128126343831103\n"
          ]
        },
        {
          "output_type": "stream",
          "name": "stderr",
          "text": [
            "Epoch 2/3 [Train]: 100%|██████████| 94/94 [00:42<00:00,  2.22it/s]\n"
          ]
        },
        {
          "output_type": "stream",
          "name": "stdout",
          "text": [
            "Epoch [2/3], Loss: 0.14319612133376142\n"
          ]
        },
        {
          "output_type": "stream",
          "name": "stderr",
          "text": [
            "Epoch 3/3 [Train]: 100%|██████████| 94/94 [00:42<00:00,  2.22it/s]"
          ]
        },
        {
          "output_type": "stream",
          "name": "stdout",
          "text": [
            "Epoch [3/3], Loss: 0.13058195992353114\n"
          ]
        },
        {
          "output_type": "stream",
          "name": "stderr",
          "text": [
            "\n"
          ]
        }
      ]
    },
    {
      "cell_type": "code",
      "source": [
        "model.eval()\n",
        "iou_list = []\n",
        "dice_list = []\n",
        "pa_list = []\n",
        "\n",
        "with torch.no_grad():\n",
        "    for images, masks in tqdm(test_dataloader, desc=\"[Test]\"):\n",
        "        images = images.to(device)\n",
        "        masks = masks.to(device).float()\n",
        "        outputs = model(images)\n",
        "        output_probs = torch.sigmoid(outputs)\n",
        "        iou = iou_score(output_probs, masks)\n",
        "        dice = dice_score(output_probs, masks)\n",
        "        pa = pixel_accuracy(output_probs, masks)\n",
        "        iou_list.append(iou)\n",
        "        dice_list.append(dice)\n",
        "        pa_list.append(pa)\n",
        "\n",
        "avg_iou = np.mean(iou_list)\n",
        "avg_dice = np.mean(dice_list)\n",
        "avg_pa = np.mean(pa_list)\n",
        "\n",
        "print(f'IoU: {avg_iou:.4f}')\n",
        "print(f'Dice: {avg_dice:.4f}')\n",
        "print(f'Pixel_accuracy: {avg_pa:.4f}')\n",
        "\n"
      ],
      "metadata": {
        "colab": {
          "base_uri": "https://localhost:8080/"
        },
        "outputId": "b219e43f-34be-4cdc-93ed-27f6bdced213",
        "id": "-S8CqjwCLanR"
      },
      "execution_count": null,
      "outputs": [
        {
          "output_type": "stream",
          "name": "stderr",
          "text": [
            "[Test]: 100%|██████████| 30/30 [00:13<00:00,  2.23it/s]"
          ]
        },
        {
          "output_type": "stream",
          "name": "stdout",
          "text": [
            "IoU: 0.7524\n",
            "Dice: 0.8582\n",
            "Pixel_accuracy: 0.8578\n"
          ]
        },
        {
          "output_type": "stream",
          "name": "stderr",
          "text": [
            "\n"
          ]
        }
      ]
    },
    {
      "cell_type": "markdown",
      "source": [
        "2) Использование оптимизатора AdamW"
      ],
      "metadata": {
        "id": "XViAZR8mLpdU"
      }
    },
    {
      "cell_type": "code",
      "source": [
        "transform = A.Compose([\n",
        "    A.Resize(256, 256),\n",
        "    A.Normalize(mean=(0.485, 0.456, 0.406), std=(0.229, 0.224, 0.225)),\n",
        "    ToTensorV2()\n",
        "])\n",
        "\n",
        "images_dir = '/content/Dental_dataset/Adult tooth segmentation dataset/Dataset and code/train/images'\n",
        "masks_dir = '/content/Dental_dataset/Adult tooth segmentation dataset/Dataset and code/train/masks'\n",
        "\n",
        "train_dataset = MyDataset(images_dir, masks_dir, transforms=transform)\n",
        "train_dataloader = DataLoader(train_dataset, batch_size=16, shuffle=True)"
      ],
      "metadata": {
        "id": "T8pj_dnVLrWd"
      },
      "execution_count": null,
      "outputs": []
    },
    {
      "cell_type": "code",
      "source": [
        "test_transform = A.Compose([\n",
        "    A.Resize(256, 256),\n",
        "    A.Normalize(mean=(0.485, 0.456, 0.406), std=(0.229, 0.224, 0.225)),\n",
        "    ToTensorV2()\n",
        "])\n",
        "\n",
        "test_images_dir = '/content/Dental_dataset/Adult tooth segmentation dataset/Dataset and code/test/images'\n",
        "test_masks_dir = '/content/Dental_dataset/Adult tooth segmentation dataset/Dataset and code/test/masks'\n",
        "\n",
        "test_dataset = MyDataset(test_images_dir, test_masks_dir, transforms=test_transform)\n",
        "test_dataloader = DataLoader(test_dataset, batch_size=16, shuffle=False)\n"
      ],
      "metadata": {
        "id": "gRvTU6-GLrWe"
      },
      "execution_count": null,
      "outputs": []
    },
    {
      "cell_type": "code",
      "source": [
        "model = segmentation_models_pytorch.Segformer(\n",
        "    encoder_name=\"mit_b0\",\n",
        "    encoder_weights=\"imagenet\",\n",
        "    in_channels=3,\n",
        "    classes=1,\n",
        ")\n",
        "\n",
        "device = torch.device(\"cuda\" if torch.cuda.is_available() else \"cpu\")\n",
        "model.to(device)\n",
        "\n",
        "criterion = nn.BCEWithLogitsLoss()\n",
        "\n",
        "optimizer = torch.optim.AdamW(model.parameters(), lr=1e-4, weight_decay=1e-5)"
      ],
      "metadata": {
        "id": "d5aC3JQWLrWe"
      },
      "execution_count": null,
      "outputs": []
    },
    {
      "cell_type": "code",
      "source": [
        "epochs = 3\n",
        "\n",
        "for epoch in range(epochs):\n",
        "    model.train()\n",
        "    running_loss = 0.0\n",
        "    for images, masks in tqdm(train_dataloader, desc=f'Epoch {epoch+1}/{epochs} [Train]'):\n",
        "        images = images.to(device)\n",
        "        masks = masks.to(device).float()\n",
        "        optimizer.zero_grad()\n",
        "        outputs = model(images)\n",
        "        loss = criterion(outputs,  masks.unsqueeze(1))\n",
        "        loss.backward()\n",
        "        optimizer.step()\n",
        "        running_loss += loss.item()\n",
        "    print(f\"Epoch [{epoch+1}/{epochs}], Loss: {running_loss/len(train_dataloader)}\")"
      ],
      "metadata": {
        "colab": {
          "base_uri": "https://localhost:8080/"
        },
        "outputId": "bd7efc2f-7287-46e1-80c4-2dd2b1f452ba",
        "id": "Lm-Avf0mLrWe"
      },
      "execution_count": null,
      "outputs": [
        {
          "output_type": "stream",
          "name": "stderr",
          "text": [
            "Epoch 1/3 [Train]: 100%|██████████| 94/94 [00:40<00:00,  2.33it/s]\n"
          ]
        },
        {
          "output_type": "stream",
          "name": "stdout",
          "text": [
            "Epoch [1/3], Loss: 0.265883946513876\n"
          ]
        },
        {
          "output_type": "stream",
          "name": "stderr",
          "text": [
            "Epoch 2/3 [Train]: 100%|██████████| 94/94 [00:40<00:00,  2.31it/s]\n"
          ]
        },
        {
          "output_type": "stream",
          "name": "stdout",
          "text": [
            "Epoch [2/3], Loss: 0.1492926448266557\n"
          ]
        },
        {
          "output_type": "stream",
          "name": "stderr",
          "text": [
            "Epoch 3/3 [Train]: 100%|██████████| 94/94 [00:40<00:00,  2.32it/s]"
          ]
        },
        {
          "output_type": "stream",
          "name": "stdout",
          "text": [
            "Epoch [3/3], Loss: 0.13121028815178162\n"
          ]
        },
        {
          "output_type": "stream",
          "name": "stderr",
          "text": [
            "\n"
          ]
        }
      ]
    },
    {
      "cell_type": "code",
      "source": [
        "model.eval()\n",
        "iou_list = []\n",
        "dice_list = []\n",
        "pa_list = []\n",
        "\n",
        "with torch.no_grad():\n",
        "    for images, masks in tqdm(test_dataloader, desc=\"[Test]\"):\n",
        "        images = images.to(device)\n",
        "        masks = masks.to(device).float()\n",
        "        outputs = model(images)\n",
        "        output_probs = torch.sigmoid(outputs)\n",
        "        iou = iou_score(output_probs, masks)\n",
        "        dice = dice_score(output_probs, masks)\n",
        "        pa = pixel_accuracy(output_probs, masks)\n",
        "        iou_list.append(iou)\n",
        "        dice_list.append(dice)\n",
        "        pa_list.append(pa)\n",
        "\n",
        "avg_iou = np.mean(iou_list)\n",
        "avg_dice = np.mean(dice_list)\n",
        "avg_pa = np.mean(pa_list)\n",
        "\n",
        "print(f'IoU: {avg_iou:.4f}')\n",
        "print(f'Dice: {avg_dice:.4f}')\n",
        "print(f'Pixel_accuracy: {avg_pa:.4f}')\n",
        "\n"
      ],
      "metadata": {
        "colab": {
          "base_uri": "https://localhost:8080/"
        },
        "outputId": "1a644a55-23ae-458b-9347-8be6f23b55e1",
        "id": "saPLTFPQLrWe"
      },
      "execution_count": null,
      "outputs": [
        {
          "output_type": "stream",
          "name": "stderr",
          "text": [
            "[Test]: 100%|██████████| 30/30 [00:13<00:00,  2.29it/s]"
          ]
        },
        {
          "output_type": "stream",
          "name": "stdout",
          "text": [
            "IoU: 0.7696\n",
            "Dice: 0.8696\n",
            "Pixel_accuracy: 0.8553\n"
          ]
        },
        {
          "output_type": "stream",
          "name": "stderr",
          "text": [
            "\n"
          ]
        }
      ]
    },
    {
      "cell_type": "markdown",
      "source": [
        "3) Использование Dice Loss вместо Cross-Entropy"
      ],
      "metadata": {
        "id": "MzGVVNCWXYVO"
      }
    },
    {
      "cell_type": "code",
      "source": [
        "transform = A.Compose([\n",
        "    A.Resize(256, 256),\n",
        "    A.Normalize(mean=(0.485, 0.456, 0.406), std=(0.229, 0.224, 0.225)),\n",
        "    ToTensorV2()\n",
        "])\n",
        "\n",
        "images_dir = '/content/Dental_dataset/Adult tooth segmentation dataset/Dataset and code/train/images'\n",
        "masks_dir = '/content/Dental_dataset/Adult tooth segmentation dataset/Dataset and code/train/masks'\n",
        "\n",
        "train_dataset = MyDataset(images_dir, masks_dir, transforms=transform)\n",
        "train_dataloader = DataLoader(train_dataset, batch_size=16, shuffle=True)"
      ],
      "metadata": {
        "id": "naSv8Ph3XcNc"
      },
      "execution_count": null,
      "outputs": []
    },
    {
      "cell_type": "code",
      "source": [
        "test_transform = A.Compose([\n",
        "    A.Resize(256, 256),\n",
        "    A.Normalize(mean=(0.485, 0.456, 0.406), std=(0.229, 0.224, 0.225)),\n",
        "    ToTensorV2()\n",
        "])\n",
        "\n",
        "test_images_dir = '/content/Dental_dataset/Adult tooth segmentation dataset/Dataset and code/test/images'\n",
        "test_masks_dir = '/content/Dental_dataset/Adult tooth segmentation dataset/Dataset and code/test/masks'\n",
        "\n",
        "test_dataset = MyDataset(test_images_dir, test_masks_dir, transforms=test_transform)\n",
        "test_dataloader = DataLoader(test_dataset, batch_size=16, shuffle=False)\n"
      ],
      "metadata": {
        "id": "D5VkB003XcNd"
      },
      "execution_count": null,
      "outputs": []
    },
    {
      "cell_type": "code",
      "source": [
        "model = segmentation_models_pytorch.Segformer(\n",
        "    encoder_name=\"mit_b0\",\n",
        "    encoder_weights=\"imagenet\",\n",
        "    in_channels=3,\n",
        "    classes=1,\n",
        ")\n",
        "\n",
        "device = torch.device(\"cuda\" if torch.cuda.is_available() else \"cpu\")\n",
        "model.to(device)\n",
        "\n",
        "criterion = segmentation_models_pytorch.losses.DiceLoss(mode='binary')\n",
        "\n",
        "optimizer = optim.Adam(model.parameters(), lr=1e-4)"
      ],
      "metadata": {
        "id": "ocOMBM_KXcNd"
      },
      "execution_count": null,
      "outputs": []
    },
    {
      "cell_type": "code",
      "source": [
        "epochs = 3\n",
        "\n",
        "for epoch in range(epochs):\n",
        "    model.train()\n",
        "    running_loss = 0.0\n",
        "    for images, masks in tqdm(train_dataloader, desc=f'Epoch {epoch+1}/{epochs} [Train]'):\n",
        "        images = images.to(device)\n",
        "        masks = masks.to(device).float()\n",
        "        optimizer.zero_grad()\n",
        "        outputs = model(images)\n",
        "        loss = criterion(outputs,  masks.unsqueeze(1))\n",
        "        loss.backward()\n",
        "        optimizer.step()\n",
        "        running_loss += loss.item()\n",
        "    print(f\"Epoch [{epoch+1}/{epochs}], Loss: {running_loss/len(train_dataloader)}\")"
      ],
      "metadata": {
        "colab": {
          "base_uri": "https://localhost:8080/"
        },
        "outputId": "93bf1682-238e-4f4f-a6e6-abfed4cf7b3e",
        "id": "b3E9hrAJXcNd"
      },
      "execution_count": null,
      "outputs": [
        {
          "output_type": "stream",
          "name": "stderr",
          "text": [
            "Epoch 1/3 [Train]: 100%|██████████| 94/94 [00:39<00:00,  2.35it/s]\n"
          ]
        },
        {
          "output_type": "stream",
          "name": "stdout",
          "text": [
            "Epoch [1/3], Loss: 0.23689810709750397\n"
          ]
        },
        {
          "output_type": "stream",
          "name": "stderr",
          "text": [
            "Epoch 2/3 [Train]: 100%|██████████| 94/94 [00:39<00:00,  2.36it/s]\n"
          ]
        },
        {
          "output_type": "stream",
          "name": "stdout",
          "text": [
            "Epoch [2/3], Loss: 0.16212036444785746\n"
          ]
        },
        {
          "output_type": "stream",
          "name": "stderr",
          "text": [
            "Epoch 3/3 [Train]: 100%|██████████| 94/94 [00:39<00:00,  2.36it/s]"
          ]
        },
        {
          "output_type": "stream",
          "name": "stdout",
          "text": [
            "Epoch [3/3], Loss: 0.13984845673784296\n"
          ]
        },
        {
          "output_type": "stream",
          "name": "stderr",
          "text": [
            "\n"
          ]
        }
      ]
    },
    {
      "cell_type": "code",
      "source": [
        "model.eval()\n",
        "iou_list = []\n",
        "dice_list = []\n",
        "pa_list = []\n",
        "\n",
        "with torch.no_grad():\n",
        "    for images, masks in tqdm(test_dataloader, desc=\"[Test]\"):\n",
        "        images = images.to(device)\n",
        "        masks = masks.to(device).float()\n",
        "        outputs = model(images)\n",
        "        output_probs = torch.sigmoid(outputs)\n",
        "        iou = iou_score(output_probs, masks)\n",
        "        dice = dice_score(output_probs, masks)\n",
        "        pa = pixel_accuracy(output_probs, masks)\n",
        "        iou_list.append(iou)\n",
        "        dice_list.append(dice)\n",
        "        pa_list.append(pa)\n",
        "\n",
        "avg_iou = np.mean(iou_list)\n",
        "avg_dice = np.mean(dice_list)\n",
        "avg_pa = np.mean(pa_list)\n",
        "\n",
        "print(f'IoU: {avg_iou:.4f}')\n",
        "print(f'Dice: {avg_dice:.4f}')\n",
        "print(f'Pixel_accuracy: {avg_pa:.4f}')\n",
        "\n"
      ],
      "metadata": {
        "colab": {
          "base_uri": "https://localhost:8080/"
        },
        "outputId": "3b73585f-5fdc-4164-e434-587ecc1927c5",
        "id": "UOR8tx-lXcNd"
      },
      "execution_count": null,
      "outputs": [
        {
          "output_type": "stream",
          "name": "stderr",
          "text": [
            "[Test]: 100%|██████████| 30/30 [00:13<00:00,  2.26it/s]"
          ]
        },
        {
          "output_type": "stream",
          "name": "stdout",
          "text": [
            "IoU: 0.7348\n",
            "Dice: 0.8460\n",
            "Pixel_accuracy: 0.8550\n"
          ]
        },
        {
          "output_type": "stream",
          "name": "stderr",
          "text": [
            "\n"
          ]
        }
      ]
    },
    {
      "cell_type": "markdown",
      "source": [
        "####  c. Сформировать улучшенный бейзлайн по результатам проверки гипотез"
      ],
      "metadata": {
        "id": "4--L2m26EMFB"
      }
    },
    {
      "cell_type": "markdown",
      "source": [
        "В результате проверки гипотез улучшение качества показала только замена оптимизатора Adam на AdamW"
      ],
      "metadata": {
        "id": "0QaoZIi2LvvL"
      }
    },
    {
      "cell_type": "markdown",
      "source": [
        "#### d. Обучить модели с улучшенным бейзлайном на выбранном наборе данных"
      ],
      "metadata": {
        "id": "oQSG8mJ6EL6b"
      }
    },
    {
      "cell_type": "code",
      "source": [
        "transform = A.Compose([\n",
        "    A.Resize(256, 256),\n",
        "    A.Normalize(mean=(0.485, 0.456, 0.406), std=(0.229, 0.224, 0.225)),\n",
        "    ToTensorV2()\n",
        "])\n",
        "\n",
        "images_dir = '/content/Dental_dataset/Adult tooth segmentation dataset/Dataset and code/train/images'\n",
        "masks_dir = '/content/Dental_dataset/Adult tooth segmentation dataset/Dataset and code/train/masks'\n",
        "\n",
        "train_dataset = MyDataset(images_dir, masks_dir, transforms=transform)\n",
        "train_dataloader = DataLoader(train_dataset, batch_size=16, shuffle=True)"
      ],
      "metadata": {
        "id": "H-fz3Wqkh5KD"
      },
      "execution_count": null,
      "outputs": []
    },
    {
      "cell_type": "code",
      "source": [
        "test_transform = A.Compose([\n",
        "    A.Resize(256, 256),\n",
        "    A.Normalize(mean=(0.485, 0.456, 0.406), std=(0.229, 0.224, 0.225)),\n",
        "    ToTensorV2()\n",
        "])\n",
        "\n",
        "test_images_dir = '/content/Dental_dataset/Adult tooth segmentation dataset/Dataset and code/test/images'\n",
        "test_masks_dir = '/content/Dental_dataset/Adult tooth segmentation dataset/Dataset and code/test/masks'\n",
        "\n",
        "test_dataset = MyDataset(test_images_dir, test_masks_dir, transforms=test_transform)\n",
        "test_dataloader = DataLoader(test_dataset, batch_size=16, shuffle=False)\n"
      ],
      "metadata": {
        "id": "Z3lmiuszh5KD"
      },
      "execution_count": null,
      "outputs": []
    },
    {
      "cell_type": "code",
      "source": [
        "model = segmentation_models_pytorch.Segformer(\n",
        "    encoder_name=\"mit_b0\",\n",
        "    encoder_weights=\"imagenet\",\n",
        "    in_channels=3,\n",
        "    classes=1,\n",
        ")\n",
        "\n",
        "device = torch.device(\"cuda\" if torch.cuda.is_available() else \"cpu\")\n",
        "model.to(device)\n",
        "\n",
        "criterion = nn.BCEWithLogitsLoss()\n",
        "\n",
        "optimizer = torch.optim.AdamW(model.parameters(), lr=1e-4, weight_decay=1e-5)"
      ],
      "metadata": {
        "id": "_UsLVkMRh5KD"
      },
      "execution_count": null,
      "outputs": []
    },
    {
      "cell_type": "code",
      "source": [
        "epochs = 3\n",
        "\n",
        "for epoch in range(epochs):\n",
        "    model.train()\n",
        "    running_loss = 0.0\n",
        "    for images, masks in tqdm(train_dataloader, desc=f'Epoch {epoch+1}/{epochs} [Train]'):\n",
        "        images = images.to(device)\n",
        "        masks = masks.to(device).float()\n",
        "        optimizer.zero_grad()\n",
        "        outputs = model(images)\n",
        "        loss = criterion(outputs,  masks.unsqueeze(1))\n",
        "        loss.backward()\n",
        "        optimizer.step()\n",
        "        running_loss += loss.item()\n",
        "    print(f\"Epoch [{epoch+1}/{epochs}], Loss: {running_loss/len(train_dataloader)}\")"
      ],
      "metadata": {
        "colab": {
          "base_uri": "https://localhost:8080/"
        },
        "outputId": "bd7efc2f-7287-46e1-80c4-2dd2b1f452ba",
        "id": "m5NE4cD2h5KD"
      },
      "execution_count": null,
      "outputs": [
        {
          "output_type": "stream",
          "name": "stderr",
          "text": [
            "Epoch 1/3 [Train]: 100%|██████████| 94/94 [00:40<00:00,  2.33it/s]\n"
          ]
        },
        {
          "output_type": "stream",
          "name": "stdout",
          "text": [
            "Epoch [1/3], Loss: 0.265883946513876\n"
          ]
        },
        {
          "output_type": "stream",
          "name": "stderr",
          "text": [
            "Epoch 2/3 [Train]: 100%|██████████| 94/94 [00:40<00:00,  2.31it/s]\n"
          ]
        },
        {
          "output_type": "stream",
          "name": "stdout",
          "text": [
            "Epoch [2/3], Loss: 0.1492926448266557\n"
          ]
        },
        {
          "output_type": "stream",
          "name": "stderr",
          "text": [
            "Epoch 3/3 [Train]: 100%|██████████| 94/94 [00:40<00:00,  2.32it/s]"
          ]
        },
        {
          "output_type": "stream",
          "name": "stdout",
          "text": [
            "Epoch [3/3], Loss: 0.13121028815178162\n"
          ]
        },
        {
          "output_type": "stream",
          "name": "stderr",
          "text": [
            "\n"
          ]
        }
      ]
    },
    {
      "cell_type": "markdown",
      "source": [
        "#### e. Оценить качество моделей с улучшенным бейзлайном по выбранным метрикам на выбранном наборе данных"
      ],
      "metadata": {
        "id": "Ff2Sho-7ELpb"
      }
    },
    {
      "cell_type": "code",
      "source": [
        "model.eval()\n",
        "iou_list = []\n",
        "dice_list = []\n",
        "pa_list = []\n",
        "\n",
        "with torch.no_grad():\n",
        "    for images, masks in tqdm(test_dataloader, desc=\"[Test]\"):\n",
        "        images = images.to(device)\n",
        "        masks = masks.to(device).float()\n",
        "        outputs = model(images)\n",
        "        output_probs = torch.sigmoid(outputs)\n",
        "        iou = iou_score(output_probs, masks)\n",
        "        dice = dice_score(output_probs, masks)\n",
        "        pa = pixel_accuracy(output_probs, masks)\n",
        "        iou_list.append(iou)\n",
        "        dice_list.append(dice)\n",
        "        pa_list.append(pa)\n",
        "\n",
        "avg_iou = np.mean(iou_list)\n",
        "avg_dice = np.mean(dice_list)\n",
        "avg_pa = np.mean(pa_list)\n",
        "\n",
        "print(f'IoU: {avg_iou:.4f}')\n",
        "print(f'Dice: {avg_dice:.4f}')\n",
        "print(f'Pixel_accuracy: {avg_pa:.4f}')\n",
        "\n"
      ],
      "metadata": {
        "colab": {
          "base_uri": "https://localhost:8080/"
        },
        "outputId": "1a644a55-23ae-458b-9347-8be6f23b55e1",
        "id": "UX00l_wFh5KE"
      },
      "execution_count": null,
      "outputs": [
        {
          "output_type": "stream",
          "name": "stderr",
          "text": [
            "[Test]: 100%|██████████| 30/30 [00:13<00:00,  2.29it/s]"
          ]
        },
        {
          "output_type": "stream",
          "name": "stdout",
          "text": [
            "IoU: 0.7696\n",
            "Dice: 0.8696\n",
            "Pixel_accuracy: 0.8553\n"
          ]
        },
        {
          "output_type": "stream",
          "name": "stderr",
          "text": [
            "\n"
          ]
        }
      ]
    },
    {
      "cell_type": "markdown",
      "source": [
        "#### f. Сравнить результаты моделей с улучшенным бейзлайном в сравнении с результатами из пункта 2"
      ],
      "metadata": {
        "id": "xlf5SipbEyXk"
      }
    },
    {
      "cell_type": "markdown",
      "source": [
        "Бейзлайн IoU: 0.7576\n",
        "Dice: 0.8616\n",
        "Pixel_accuracy: 0.8569\n",
        "\n",
        "Улучшенный бейзлайн IoU:\n",
        "0.7696\n",
        "Dice: 0.8696\n",
        "Pixel_accuracy: 0.8553"
      ],
      "metadata": {
        "id": "rQ7kukGzL2VD"
      }
    },
    {
      "cell_type": "markdown",
      "source": [
        "#### g. Сделать выводы"
      ],
      "metadata": {
        "id": "HPymHCcpEzvM"
      }
    },
    {
      "cell_type": "markdown",
      "source": [
        "Улучшенный бейзлайн показал лишь совсем небольшие улучшения"
      ],
      "metadata": {
        "id": "gxhVc46bL4ea"
      }
    },
    {
      "cell_type": "markdown",
      "source": [
        "## 4. Имплементация алгоритма машинного обучения"
      ],
      "metadata": {
        "id": "jdl9FL39D5FN"
      }
    },
    {
      "cell_type": "markdown",
      "source": [
        "### Сверточная модель"
      ],
      "metadata": {
        "id": "fztKmcFQYtR8"
      }
    },
    {
      "cell_type": "markdown",
      "source": [
        "#### a. Самостоятельно имплементировать модели машинного обучения"
      ],
      "metadata": {
        "id": "r1BS6PfbE9qk"
      }
    },
    {
      "cell_type": "code",
      "source": [
        "import torch\n",
        "import torch.nn as nn\n",
        "\n",
        "class MyUNet(nn.Module):\n",
        "    def __init__(self, in_channels, out_channels):\n",
        "        super().__init__()\n",
        "        self.down_conv1 = nn.Sequential(\n",
        "            nn.Conv2d(in_channels, 32, 3, padding=1),\n",
        "            nn.ReLU(),\n",
        "            nn.Conv2d(32, 32, 3, padding=1),\n",
        "            nn.ReLU()\n",
        "        )\n",
        "        self.pool1 = nn.MaxPool2d(2)\n",
        "\n",
        "        self.down_conv2 = nn.Sequential(\n",
        "            nn.Conv2d(32, 64, 3, padding=1),\n",
        "            nn.ReLU(),\n",
        "            nn.Conv2d(64, 64, 3, padding=1),\n",
        "            nn.ReLU()\n",
        "        )\n",
        "        self.pool2 = nn.MaxPool2d(2)\n",
        "\n",
        "        self.bottleneck = nn.Sequential(\n",
        "            nn.Conv2d(64, 128, 3, padding=1),\n",
        "            nn.ReLU(),\n",
        "            nn.Conv2d(128, 128, 3, padding=1),\n",
        "            nn.ReLU()\n",
        "        )\n",
        "\n",
        "        self.up_transpose2 = nn.ConvTranspose2d(128, 64, 2, stride=2)\n",
        "        self.up_conv2 = nn.Sequential(\n",
        "            nn.Conv2d(128, 64, 3, padding=1),\n",
        "            nn.ReLU(),\n",
        "            nn.Conv2d(64, 64, 3, padding=1),\n",
        "            nn.ReLU()\n",
        "        )\n",
        "\n",
        "        self.up_transpose1 = nn.ConvTranspose2d(64, 32, 2, stride=2)\n",
        "        self.up_conv1 = nn.Sequential(\n",
        "            nn.Conv2d(64, 32, 3, padding=1),\n",
        "            nn.ReLU(),\n",
        "            nn.Conv2d(32, 32, 3, padding=1),\n",
        "            nn.ReLU()\n",
        "        )\n",
        "\n",
        "        self.out_conv = nn.Conv2d(32, out_channels, 1)\n",
        "\n",
        "    def forward(self, x):\n",
        "        d1 = self.down_conv1(x)\n",
        "        p1 = self.pool1(d1)\n",
        "\n",
        "        d2 = self.down_conv2(p1)\n",
        "        p2 = self.pool2(d2)\n",
        "\n",
        "        bn = self.bottleneck(p2)\n",
        "\n",
        "        #\n",
        "        up2 = self.up_transpose2(bn)\n",
        "        up2 = torch.cat([up2, d2], dim=1)\n",
        "        up2 = self.up_conv2(up2)\n",
        "\n",
        "        up1 = self.up_transpose1(up2)\n",
        "        up1 = torch.cat([up1, d1], dim=1)\n",
        "        up1 = self.up_conv1(up1)\n",
        "\n",
        "        out = self.out_conv(up1)\n",
        "        return out\n",
        "\n"
      ],
      "metadata": {
        "id": "VBNs_DLshaXV"
      },
      "execution_count": 41,
      "outputs": []
    },
    {
      "cell_type": "markdown",
      "source": [
        "#### b. Обучить имплементированные модели на выбранном наборе данных"
      ],
      "metadata": {
        "id": "0VGb-oj8E9Y8"
      }
    },
    {
      "cell_type": "code",
      "source": [
        "transform = A.Compose([\n",
        "    A.Resize(256, 256),\n",
        "    A.Normalize(mean=(0.485, 0.456, 0.406), std=(0.229, 0.224, 0.225)),\n",
        "    ToTensorV2()\n",
        "])\n",
        "\n",
        "images_dir = '/content/Dental_dataset/Adult tooth segmentation dataset/Dataset and code/train/images'\n",
        "masks_dir = '/content/Dental_dataset/Adult tooth segmentation dataset/Dataset and code/train/masks'\n",
        "\n",
        "train_dataset = MyDataset(images_dir, masks_dir, transforms=transform)\n",
        "train_dataloader = DataLoader(train_dataset, batch_size=16, shuffle=True)"
      ],
      "metadata": {
        "id": "U-mxu0W_ih0c"
      },
      "execution_count": 33,
      "outputs": []
    },
    {
      "cell_type": "code",
      "source": [
        "test_transform = A.Compose([\n",
        "    A.Resize(256, 256),\n",
        "    A.Normalize(mean=(0.485, 0.456, 0.406), std=(0.229, 0.224, 0.225)),\n",
        "    ToTensorV2()\n",
        "])\n",
        "\n",
        "test_images_dir = '/content/Dental_dataset/Adult tooth segmentation dataset/Dataset and code/test/images'\n",
        "test_masks_dir = '/content/Dental_dataset/Adult tooth segmentation dataset/Dataset and code/test/masks'\n",
        "\n",
        "test_dataset = MyDataset(test_images_dir, test_masks_dir, transforms=test_transform)\n",
        "test_dataloader = DataLoader(test_dataset, batch_size=16, shuffle=False)\n"
      ],
      "metadata": {
        "id": "a8zrbmkBih0c"
      },
      "execution_count": 34,
      "outputs": []
    },
    {
      "cell_type": "code",
      "source": [
        "device = torch.device('cuda' if torch.cuda.is_available() else 'cpu')\n",
        "model = MyUNet(in_channels=3, out_channels=1).to(device)\n",
        "criterion = nn.BCEWithLogitsLoss()\n",
        "optimizer = optim.Adam(model.parameters(), lr=1e-4)"
      ],
      "metadata": {
        "id": "JjExnOj8ih0c"
      },
      "execution_count": 35,
      "outputs": []
    },
    {
      "cell_type": "code",
      "source": [
        "epochs = 3\n",
        "\n",
        "for epoch in range(epochs):\n",
        "    model.train()\n",
        "    running_loss = 0.0\n",
        "    for images, masks in tqdm(train_dataloader, desc=f'Epoch {epoch+1}/{epochs} [Train]'):\n",
        "        images = images.to(device)\n",
        "        masks = masks.to(device).float()\n",
        "        optimizer.zero_grad()\n",
        "        outputs = model(images)\n",
        "        loss = criterion(outputs,  masks.unsqueeze(1))\n",
        "        loss.backward()\n",
        "        optimizer.step()\n",
        "        running_loss += loss.item()\n",
        "    print(f\"Epoch [{epoch+1}/{epochs}], Loss: {running_loss/len(train_dataloader)}\")"
      ],
      "metadata": {
        "colab": {
          "base_uri": "https://localhost:8080/"
        },
        "outputId": "18d14db3-d4bc-4617-fb48-c66f09bc1b1b",
        "id": "PM0mrgrMih0c"
      },
      "execution_count": 36,
      "outputs": [
        {
          "output_type": "stream",
          "name": "stderr",
          "text": [
            "Epoch 1/3 [Train]: 100%|██████████| 94/94 [00:48<00:00,  1.93it/s]\n"
          ]
        },
        {
          "output_type": "stream",
          "name": "stdout",
          "text": [
            "Epoch [1/3], Loss: 0.5672372617620103\n"
          ]
        },
        {
          "output_type": "stream",
          "name": "stderr",
          "text": [
            "Epoch 2/3 [Train]: 100%|██████████| 94/94 [00:48<00:00,  1.92it/s]\n"
          ]
        },
        {
          "output_type": "stream",
          "name": "stdout",
          "text": [
            "Epoch [2/3], Loss: 0.3972361388992756\n"
          ]
        },
        {
          "output_type": "stream",
          "name": "stderr",
          "text": [
            "Epoch 3/3 [Train]: 100%|██████████| 94/94 [00:47<00:00,  1.97it/s]"
          ]
        },
        {
          "output_type": "stream",
          "name": "stdout",
          "text": [
            "Epoch [3/3], Loss: 0.2662272383557989\n"
          ]
        },
        {
          "output_type": "stream",
          "name": "stderr",
          "text": [
            "\n"
          ]
        }
      ]
    },
    {
      "cell_type": "markdown",
      "source": [
        "#### c. Оценить качество имплементированных моделей по выбранным метрикам на выбранном наборе данных"
      ],
      "metadata": {
        "id": "CWwK3XRaE9GM"
      }
    },
    {
      "cell_type": "code",
      "source": [
        "model.eval()\n",
        "iou_list = []\n",
        "dice_list = []\n",
        "pa_list = []\n",
        "\n",
        "with torch.no_grad():\n",
        "    for images, masks in tqdm(test_dataloader, desc=\"[Test]\"):\n",
        "        images = images.to(device)\n",
        "        masks = masks.to(device).float()\n",
        "        outputs = model(images)\n",
        "        output_probs = torch.sigmoid(outputs)\n",
        "        iou = iou_score(output_probs, masks)\n",
        "        dice = dice_score(output_probs, masks)\n",
        "        pa = pixel_accuracy(output_probs, masks)\n",
        "        iou_list.append(iou)\n",
        "        dice_list.append(dice)\n",
        "        pa_list.append(pa)\n",
        "\n",
        "avg_iou = np.mean(iou_list)\n",
        "avg_dice = np.mean(dice_list)\n",
        "avg_pa = np.mean(pa_list)\n",
        "\n",
        "print(f'IoU: {avg_iou:.4f}')\n",
        "print(f'Dice: {avg_dice:.4f}')\n",
        "print(f'Pixel_accuracy: {avg_pa:.4f}')\n",
        "\n"
      ],
      "metadata": {
        "colab": {
          "base_uri": "https://localhost:8080/"
        },
        "outputId": "00b5a837-2295-45c3-8791-49b98400e8b0",
        "id": "NGjLlnLEih0c"
      },
      "execution_count": 37,
      "outputs": [
        {
          "output_type": "stream",
          "name": "stderr",
          "text": [
            "[Test]: 100%|██████████| 30/30 [00:14<00:00,  2.10it/s]"
          ]
        },
        {
          "output_type": "stream",
          "name": "stdout",
          "text": [
            "IoU: 0.6032\n",
            "Dice: 0.7524\n",
            "Pixel_accuracy: 0.8434\n"
          ]
        },
        {
          "output_type": "stream",
          "name": "stderr",
          "text": [
            "\n"
          ]
        }
      ]
    },
    {
      "cell_type": "markdown",
      "source": [
        "#### d. Сравнить результаты имплементированных моделей в сравнении с результатами из пункта 2"
      ],
      "metadata": {
        "id": "4iEXCTUaE79M"
      }
    },
    {
      "cell_type": "markdown",
      "source": [
        "Бейзлайн IoU: 0.8055 Dice: 0.8917 Pixel_accuracy: 0.8552\n",
        "\n",
        "Собственная реализация: IoU: 0.6032\n",
        "Dice: 0.7524\n",
        "Pixel_accuracy: 0.8434"
      ],
      "metadata": {
        "id": "8A1BycfhrehL"
      }
    },
    {
      "cell_type": "markdown",
      "source": [
        "#### e. Сделать выводы"
      ],
      "metadata": {
        "id": "icTO5JxhE750"
      }
    },
    {
      "cell_type": "markdown",
      "source": [
        "Таким образом, собственная реализация оказалась хуже уже готовой Unet"
      ],
      "metadata": {
        "id": "MujBvQSWsjTK"
      }
    },
    {
      "cell_type": "markdown",
      "source": [
        "#### f. Добавить техники из улучшенного бейзлайна (пункт 3с)"
      ],
      "metadata": {
        "id": "0r91YJ4qE7lU"
      }
    },
    {
      "cell_type": "code",
      "source": [
        "transform = A.Compose([\n",
        "    A.Resize(256, 256),\n",
        "    A.Normalize(mean=(0.485, 0.456, 0.406), std=(0.229, 0.224, 0.225)),\n",
        "    ToTensorV2()\n",
        "])\n",
        "\n",
        "images_dir = '/content/Dental_dataset/Adult tooth segmentation dataset/Dataset and code/train/images'\n",
        "masks_dir = '/content/Dental_dataset/Adult tooth segmentation dataset/Dataset and code/train/masks'\n",
        "\n",
        "train_dataset = MyDataset(images_dir, masks_dir, transforms=transform)\n",
        "train_dataloader = DataLoader(train_dataset, batch_size=16, shuffle=True)"
      ],
      "metadata": {
        "id": "VHgK-Rs1lF6U"
      },
      "execution_count": 43,
      "outputs": []
    },
    {
      "cell_type": "code",
      "source": [
        "test_transform = A.Compose([\n",
        "    A.Resize(256, 256),\n",
        "    A.Normalize(mean=(0.485, 0.456, 0.406), std=(0.229, 0.224, 0.225)),\n",
        "    ToTensorV2()\n",
        "])\n",
        "\n",
        "test_images_dir = '/content/Dental_dataset/Adult tooth segmentation dataset/Dataset and code/test/images'\n",
        "test_masks_dir = '/content/Dental_dataset/Adult tooth segmentation dataset/Dataset and code/test/masks'\n",
        "\n",
        "test_dataset = MyDataset(test_images_dir, test_masks_dir, transforms=test_transform)\n",
        "test_dataloader = DataLoader(test_dataset, batch_size=16, shuffle=False)\n"
      ],
      "metadata": {
        "id": "o-FGWourlF6U"
      },
      "execution_count": 44,
      "outputs": []
    },
    {
      "cell_type": "code",
      "source": [
        "device = torch.device('cuda' if torch.cuda.is_available() else 'cpu')\n",
        "model = MyUNet(in_channels=3, out_channels=1).to(device)\n",
        "\n",
        "criterion = nn.BCEWithLogitsLoss()\n",
        "\n",
        "optimizer = torch.optim.AdamW(model.parameters(), lr=1e-4, weight_decay=1e-5)"
      ],
      "metadata": {
        "id": "kKVA96bclF6U"
      },
      "execution_count": 45,
      "outputs": []
    },
    {
      "cell_type": "markdown",
      "source": [
        "#### g. Обучить модели для выбранных наборов данных"
      ],
      "metadata": {
        "id": "ZhH6AytfE7Po"
      }
    },
    {
      "cell_type": "code",
      "source": [
        "epochs = 3\n",
        "\n",
        "for epoch in range(epochs):\n",
        "    model.train()\n",
        "    running_loss = 0.0\n",
        "    for images, masks in tqdm(train_dataloader, desc=f'Epoch {epoch+1}/{epochs} [Train]'):\n",
        "        images = images.to(device)\n",
        "        masks = masks.to(device).float()\n",
        "        optimizer.zero_grad()\n",
        "        outputs = model(images)\n",
        "        loss = criterion(outputs,  masks.unsqueeze(1))\n",
        "        loss.backward()\n",
        "        optimizer.step()\n",
        "        running_loss += loss.item()\n",
        "    print(f\"Epoch [{epoch+1}/{epochs}], Loss: {running_loss/len(train_dataloader)}\")"
      ],
      "metadata": {
        "colab": {
          "base_uri": "https://localhost:8080/"
        },
        "outputId": "9e1c29f7-b69c-4714-fb59-b704e832356c",
        "id": "gPe1d297lF6U"
      },
      "execution_count": 46,
      "outputs": [
        {
          "output_type": "stream",
          "name": "stderr",
          "text": [
            "Epoch 1/3 [Train]: 100%|██████████| 94/94 [00:47<00:00,  1.96it/s]\n"
          ]
        },
        {
          "output_type": "stream",
          "name": "stdout",
          "text": [
            "Epoch [1/3], Loss: 0.528778425873594\n"
          ]
        },
        {
          "output_type": "stream",
          "name": "stderr",
          "text": [
            "Epoch 2/3 [Train]: 100%|██████████| 94/94 [00:47<00:00,  1.98it/s]\n"
          ]
        },
        {
          "output_type": "stream",
          "name": "stdout",
          "text": [
            "Epoch [2/3], Loss: 0.32483997877607956\n"
          ]
        },
        {
          "output_type": "stream",
          "name": "stderr",
          "text": [
            "Epoch 3/3 [Train]: 100%|██████████| 94/94 [00:46<00:00,  2.02it/s]"
          ]
        },
        {
          "output_type": "stream",
          "name": "stdout",
          "text": [
            "Epoch [3/3], Loss: 0.24693206142871937\n"
          ]
        },
        {
          "output_type": "stream",
          "name": "stderr",
          "text": [
            "\n"
          ]
        }
      ]
    },
    {
      "cell_type": "markdown",
      "source": [
        "#### h. Оценить качество моделей по выбранным метрикам на выбранном наборе данных"
      ],
      "metadata": {
        "id": "wW3M0dOLE6y0"
      }
    },
    {
      "cell_type": "code",
      "source": [
        "model.eval()\n",
        "iou_list = []\n",
        "dice_list = []\n",
        "pa_list = []\n",
        "\n",
        "with torch.no_grad():\n",
        "    for images, masks in tqdm(test_dataloader, desc=\"[Test]\"):\n",
        "        images = images.to(device)\n",
        "        masks = masks.to(device).float()\n",
        "        outputs = model(images)\n",
        "        output_probs = torch.sigmoid(outputs)\n",
        "        iou = iou_score(output_probs, masks)\n",
        "        dice = dice_score(output_probs, masks)\n",
        "        pa = pixel_accuracy(output_probs, masks)\n",
        "        iou_list.append(iou)\n",
        "        dice_list.append(dice)\n",
        "        pa_list.append(pa)\n",
        "\n",
        "avg_iou = np.mean(iou_list)\n",
        "avg_dice = np.mean(dice_list)\n",
        "avg_pa = np.mean(pa_list)\n",
        "\n",
        "print(f'IoU: {avg_iou:.4f}')\n",
        "print(f'Dice: {avg_dice:.4f}')\n",
        "print(f'Pixel_accuracy: {avg_pa:.4f}')\n",
        "\n"
      ],
      "metadata": {
        "id": "56E2Q5MmlF6V",
        "colab": {
          "base_uri": "https://localhost:8080/"
        },
        "outputId": "78f394a3-f14d-4955-d59b-fb5164af3368"
      },
      "execution_count": 47,
      "outputs": [
        {
          "output_type": "stream",
          "name": "stderr",
          "text": [
            "[Test]: 100%|██████████| 30/30 [00:13<00:00,  2.20it/s]"
          ]
        },
        {
          "output_type": "stream",
          "name": "stdout",
          "text": [
            "IoU: 0.5893\n",
            "Dice: 0.7413\n",
            "Pixel_accuracy: 0.8445\n"
          ]
        },
        {
          "output_type": "stream",
          "name": "stderr",
          "text": [
            "\n"
          ]
        }
      ]
    },
    {
      "cell_type": "markdown",
      "source": [
        "#### i. Сравнить результаты моделей в сравнении с результатами из пункта 3\n"
      ],
      "metadata": {
        "id": "YWldrJSNFQXu"
      }
    },
    {
      "cell_type": "markdown",
      "source": [
        "Улучшенный бейзлайн IoU: 0.8175 Dice: 0.8993 Pixel_accuracy: 0.8555\n",
        "\n",
        "Улучшенная собственная реализация: IoU:0.5893\n",
        "Dice: 0.7413\n",
        "Pixel_accuracy: 0.8445"
      ],
      "metadata": {
        "id": "QLVi6tG6r4xB"
      }
    },
    {
      "cell_type": "markdown",
      "source": [
        "####  j. Сделать выводы"
      ],
      "metadata": {
        "id": "J-q5-l-3FWme"
      }
    },
    {
      "cell_type": "markdown",
      "source": [
        "Таким образом, собственная реализация оказалась хуже уже готовой Unet"
      ],
      "metadata": {
        "id": "_0bF3inhsEE0"
      }
    },
    {
      "cell_type": "markdown",
      "source": [
        "### Трансформерная модель"
      ],
      "metadata": {
        "id": "V8aCs07AoBgx"
      }
    },
    {
      "cell_type": "markdown",
      "source": [
        "#### a. Самостоятельно имплементировать модели машинного обучения"
      ],
      "metadata": {
        "id": "mNUKDuOlswRD"
      }
    },
    {
      "cell_type": "code",
      "source": [
        "import torch\n",
        "import torch.nn as nn\n",
        "import torch.nn.functional as F\n",
        "\n",
        "class PatchEmbedding(nn.Module):\n",
        "    def __init__(self, in_channels=3, embed_dim=64, patch_size=16):\n",
        "        super().__init__()\n",
        "        self.proj = nn.Conv2d(in_channels, embed_dim, kernel_size=patch_size, stride=patch_size)\n",
        "\n",
        "    def forward(self, x):\n",
        "        x = self.proj(x)\n",
        "        B, C, H, W = x.shape\n",
        "        x = x.flatten(2).transpose(1, 2)  # B, N, C\n",
        "        return x, (H, W)\n",
        "\n",
        "class TransformerEncoderLayer(nn.Module):\n",
        "    def __init__(self, embed_dim, num_heads=4, mlp_ratio=4.0, dropout=0.1):\n",
        "        super().__init__()\n",
        "        self.attn = nn.MultiheadAttention(embed_dim, num_heads, dropout=dropout, batch_first=True)\n",
        "        self.mlp = nn.Sequential(\n",
        "            nn.Linear(embed_dim, int(embed_dim * mlp_ratio)),\n",
        "            nn.GELU(),\n",
        "            nn.Dropout(dropout),\n",
        "            nn.Linear(int(embed_dim * mlp_ratio), embed_dim),\n",
        "            nn.Dropout(dropout),\n",
        "        )\n",
        "        self.norm1 = nn.LayerNorm(embed_dim)\n",
        "        self.norm2 = nn.LayerNorm(embed_dim)\n",
        "\n",
        "    def forward(self, x):\n",
        "        x = x + self.attn(self.norm1(x), self.norm1(x), self.norm1(x))[0]\n",
        "        x = x + self.mlp(self.norm2(x))\n",
        "        return x\n",
        "\n",
        "class SimpleViTBackbone(nn.Module):\n",
        "    def __init__(self, in_channels=3, embed_dim=64, depth=4):\n",
        "        super().__init__()\n",
        "        self.patch_embed = PatchEmbedding(in_channels, embed_dim)\n",
        "        self.encoder_layers = nn.ModuleList([\n",
        "            TransformerEncoderLayer(embed_dim) for _ in range(depth)\n",
        "        ])\n",
        "\n",
        "    def forward(self, x):\n",
        "        x, (H, W) = self.patch_embed(x)\n",
        "        for layer in self.encoder_layers:\n",
        "            x = layer(x)\n",
        "        x = x.transpose(1, 2).reshape(-1, x.shape[-1], H, W)\n",
        "        return x\n",
        "\n",
        "\n",
        "class SegFormerDecoder(nn.Module):\n",
        "    def __init__(self, embed_dim=64, out_channels=1):\n",
        "        super().__init__()\n",
        "        self.conv1 = nn.Conv2d(embed_dim, embed_dim // 2, kernel_size=3, padding=1)\n",
        "        self.up = nn.ConvTranspose2d(embed_dim // 2, out_channels, kernel_size=2, stride=2)\n",
        "\n",
        "    def forward(self, x):\n",
        "        x = F.relu(self.conv1(x))\n",
        "        x = self.up(x)\n",
        "        return x\n",
        "\n",
        "\n",
        "class mySegFormer(nn.Module):\n",
        "    def __init__(self, in_channels=3, embed_dim=64, depth=4):\n",
        "        super().__init__()\n",
        "        self.encoder = SimpleViTBackbone(in_channels, embed_dim, depth)\n",
        "        self.decoder = SegFormerDecoder(embed_dim, out_channels=1)\n",
        "\n",
        "    def forward(self, x):\n",
        "        features = self.encoder(x)\n",
        "        logits = self.decoder(features)\n",
        "        logits = F.interpolate(logits, size=x.shape[2:], mode='bilinear', align_corners=False)\n",
        "        return logits\n",
        "\n"
      ],
      "metadata": {
        "id": "Cednd1DgswRD"
      },
      "execution_count": null,
      "outputs": []
    },
    {
      "cell_type": "markdown",
      "source": [
        "#### b. Обучить имплементированные модели на выбранном наборе данных"
      ],
      "metadata": {
        "id": "gYlJ-9AQswRE"
      }
    },
    {
      "cell_type": "code",
      "source": [
        "transform = A.Compose([\n",
        "    A.Resize(256, 256),\n",
        "    A.Normalize(mean=(0.485, 0.456, 0.406), std=(0.229, 0.224, 0.225)),\n",
        "    ToTensorV2()\n",
        "])\n",
        "\n",
        "images_dir = '/content/Dental_dataset/Adult tooth segmentation dataset/Dataset and code/train/images'\n",
        "masks_dir = '/content/Dental_dataset/Adult tooth segmentation dataset/Dataset and code/train/masks'\n",
        "\n",
        "train_dataset = MyDataset(images_dir, masks_dir, transforms=transform)\n",
        "train_dataloader = DataLoader(train_dataset, batch_size=16, shuffle=True)"
      ],
      "metadata": {
        "id": "juEWWA33swRE"
      },
      "execution_count": null,
      "outputs": []
    },
    {
      "cell_type": "code",
      "source": [
        "test_transform = A.Compose([\n",
        "    A.Resize(256, 256),\n",
        "    A.Normalize(mean=(0.485, 0.456, 0.406), std=(0.229, 0.224, 0.225)),\n",
        "    ToTensorV2()\n",
        "])\n",
        "\n",
        "test_images_dir = '/content/Dental_dataset/Adult tooth segmentation dataset/Dataset and code/test/images'\n",
        "test_masks_dir = '/content/Dental_dataset/Adult tooth segmentation dataset/Dataset and code/test/masks'\n",
        "\n",
        "test_dataset = MyDataset(test_images_dir, test_masks_dir, transforms=test_transform)\n",
        "test_dataloader = DataLoader(test_dataset, batch_size=16, shuffle=False)\n"
      ],
      "metadata": {
        "id": "JnFSiLNyswRE"
      },
      "execution_count": null,
      "outputs": []
    },
    {
      "cell_type": "code",
      "source": [
        "device = torch.device('cuda' if torch.cuda.is_available() else 'cpu')\n",
        "model = mySegFormer().to(device)\n",
        "criterion = nn.BCEWithLogitsLoss()\n",
        "optimizer = optim.Adam(model.parameters(), lr=1e-4)"
      ],
      "metadata": {
        "id": "atgbqQszswRE"
      },
      "execution_count": null,
      "outputs": []
    },
    {
      "cell_type": "code",
      "source": [
        "epochs = 3\n",
        "\n",
        "for epoch in range(epochs):\n",
        "    model.train()\n",
        "    running_loss = 0.0\n",
        "    for images, masks in tqdm(train_dataloader, desc=f'Epoch {epoch+1}/{epochs} [Train]'):\n",
        "        images = images.to(device)\n",
        "        masks = masks.to(device).float()\n",
        "        optimizer.zero_grad()\n",
        "        outputs = model(images)\n",
        "        loss = criterion(outputs,  masks.unsqueeze(1))\n",
        "        loss.backward()\n",
        "        optimizer.step()\n",
        "        running_loss += loss.item()\n",
        "    print(f\"Epoch [{epoch+1}/{epochs}], Loss: {running_loss/len(train_dataloader)}\")"
      ],
      "metadata": {
        "colab": {
          "base_uri": "https://localhost:8080/"
        },
        "outputId": "41e22158-dbc5-4078-bae1-394d09e650e2",
        "id": "IFUxuPsVswRE"
      },
      "execution_count": null,
      "outputs": [
        {
          "output_type": "stream",
          "name": "stderr",
          "text": [
            "Epoch 1/3 [Train]: 100%|██████████| 94/94 [00:36<00:00,  2.55it/s]\n"
          ]
        },
        {
          "output_type": "stream",
          "name": "stdout",
          "text": [
            "Epoch [1/3], Loss: 0.484115794618079\n"
          ]
        },
        {
          "output_type": "stream",
          "name": "stderr",
          "text": [
            "Epoch 2/3 [Train]: 100%|██████████| 94/94 [00:32<00:00,  2.92it/s]\n"
          ]
        },
        {
          "output_type": "stream",
          "name": "stdout",
          "text": [
            "Epoch [2/3], Loss: 0.4008208712998857\n"
          ]
        },
        {
          "output_type": "stream",
          "name": "stderr",
          "text": [
            "Epoch 3/3 [Train]: 100%|██████████| 94/94 [00:32<00:00,  2.87it/s]"
          ]
        },
        {
          "output_type": "stream",
          "name": "stdout",
          "text": [
            "Epoch [3/3], Loss: 0.3287874127322055\n"
          ]
        },
        {
          "output_type": "stream",
          "name": "stderr",
          "text": [
            "\n"
          ]
        }
      ]
    },
    {
      "cell_type": "markdown",
      "source": [
        "#### c. Оценить качество имплементированных моделей по выбранным метрикам на выбранном наборе данных"
      ],
      "metadata": {
        "id": "pdQxt83UswRE"
      }
    },
    {
      "cell_type": "code",
      "source": [
        "model.eval()\n",
        "iou_list = []\n",
        "dice_list = []\n",
        "pa_list = []\n",
        "\n",
        "with torch.no_grad():\n",
        "    for images, masks in tqdm(test_dataloader, desc=\"[Test]\"):\n",
        "        images = images.to(device)\n",
        "        masks = masks.to(device).float()\n",
        "        outputs = model(images)\n",
        "        output_probs = torch.sigmoid(outputs)\n",
        "        iou = iou_score(output_probs, masks)\n",
        "        dice = dice_score(output_probs, masks)\n",
        "        pa = pixel_accuracy(output_probs, masks)\n",
        "        iou_list.append(iou)\n",
        "        dice_list.append(dice)\n",
        "        pa_list.append(pa)\n",
        "\n",
        "avg_iou = np.mean(iou_list)\n",
        "avg_dice = np.mean(dice_list)\n",
        "avg_pa = np.mean(pa_list)\n",
        "\n",
        "print(f'IoU: {avg_iou:.4f}')\n",
        "print(f'Dice: {avg_dice:.4f}')\n",
        "print(f'Pixel_accuracy: {avg_pa:.4f}')\n",
        "\n"
      ],
      "metadata": {
        "colab": {
          "base_uri": "https://localhost:8080/"
        },
        "outputId": "810e1c76-4b63-4b62-ad2d-19b2dfa066a2",
        "id": "-CfUUJdkswRE"
      },
      "execution_count": null,
      "outputs": [
        {
          "output_type": "stream",
          "name": "stderr",
          "text": [
            "[Test]: 100%|██████████| 30/30 [00:16<00:00,  1.83it/s]"
          ]
        },
        {
          "output_type": "stream",
          "name": "stdout",
          "text": [
            "IoU: 0.4738\n",
            "Dice: 0.6425\n",
            "Pixel_accuracy: 0.8389\n"
          ]
        },
        {
          "output_type": "stream",
          "name": "stderr",
          "text": [
            "\n"
          ]
        }
      ]
    },
    {
      "cell_type": "markdown",
      "source": [
        "#### d. Сравнить результаты имплементированных моделей в сравнении с результатами из пункта 2"
      ],
      "metadata": {
        "id": "1DhODcUzswRF"
      }
    },
    {
      "cell_type": "markdown",
      "source": [
        "Бейзлайн IoU: 0.7576\n",
        "Dice: 0.8616\n",
        "Pixel_accuracy: 0.8569\n",
        "\n",
        "Собственная реализация: IoU: 0.4738\n",
        "Dice: 0.6425\n",
        "Pixel_accuracy: 0.8389"
      ],
      "metadata": {
        "id": "7j1NYeq4swRF"
      }
    },
    {
      "cell_type": "markdown",
      "source": [
        "#### e. Сделать выводы"
      ],
      "metadata": {
        "id": "xIw2oY5EswRF"
      }
    },
    {
      "cell_type": "markdown",
      "source": [
        "Таким образом, собственная реализация оказалась хуже уже готовой Segformer"
      ],
      "metadata": {
        "id": "FZuDkImfswRF"
      }
    },
    {
      "cell_type": "markdown",
      "source": [
        "#### f. Добавить техники из улучшенного бейзлайна (пункт 3с)"
      ],
      "metadata": {
        "id": "-wGR8K8CswRF"
      }
    },
    {
      "cell_type": "code",
      "source": [
        "transform = A.Compose([\n",
        "    A.Resize(256, 256),\n",
        "    A.Normalize(mean=(0.485, 0.456, 0.406), std=(0.229, 0.224, 0.225)),\n",
        "    ToTensorV2()\n",
        "])\n",
        "\n",
        "images_dir = '/content/Dental_dataset/Adult tooth segmentation dataset/Dataset and code/train/images'\n",
        "masks_dir = '/content/Dental_dataset/Adult tooth segmentation dataset/Dataset and code/train/masks'\n",
        "\n",
        "train_dataset = MyDataset(images_dir, masks_dir, transforms=transform)\n",
        "train_dataloader = DataLoader(train_dataset, batch_size=16, shuffle=True)"
      ],
      "metadata": {
        "id": "mJbgTzaCswRF"
      },
      "execution_count": null,
      "outputs": []
    },
    {
      "cell_type": "code",
      "source": [
        "test_transform = A.Compose([\n",
        "    A.Resize(256, 256),\n",
        "    A.Normalize(mean=(0.485, 0.456, 0.406), std=(0.229, 0.224, 0.225)),\n",
        "    ToTensorV2()\n",
        "])\n",
        "\n",
        "test_images_dir = '/content/Dental_dataset/Adult tooth segmentation dataset/Dataset and code/test/images'\n",
        "test_masks_dir = '/content/Dental_dataset/Adult tooth segmentation dataset/Dataset and code/test/masks'\n",
        "\n",
        "test_dataset = MyDataset(test_images_dir, test_masks_dir, transforms=test_transform)\n",
        "test_dataloader = DataLoader(test_dataset, batch_size=16, shuffle=False)\n"
      ],
      "metadata": {
        "id": "FpfnxojHswRF"
      },
      "execution_count": null,
      "outputs": []
    },
    {
      "cell_type": "code",
      "source": [
        "device = torch.device('cuda' if torch.cuda.is_available() else 'cpu')\n",
        "model = mySegFormer().to(device)\n",
        "\n",
        "criterion = nn.BCEWithLogitsLoss()\n",
        "\n",
        "optimizer = torch.optim.AdamW(model.parameters(), lr=1e-4, weight_decay=1e-5)"
      ],
      "metadata": {
        "id": "hq4ii_xHswRF"
      },
      "execution_count": null,
      "outputs": []
    },
    {
      "cell_type": "markdown",
      "source": [
        "#### g. Обучить модели для выбранных наборов данных"
      ],
      "metadata": {
        "id": "naOFTTK9swRF"
      }
    },
    {
      "cell_type": "code",
      "source": [
        "epochs = 3\n",
        "\n",
        "for epoch in range(epochs):\n",
        "    model.train()\n",
        "    running_loss = 0.0\n",
        "    for images, masks in tqdm(train_dataloader, desc=f'Epoch {epoch+1}/{epochs} [Train]'):\n",
        "        images = images.to(device)\n",
        "        masks = masks.to(device).float()\n",
        "        optimizer.zero_grad()\n",
        "        outputs = model(images)\n",
        "        loss = criterion(outputs,  masks.unsqueeze(1))\n",
        "        loss.backward()\n",
        "        optimizer.step()\n",
        "        running_loss += loss.item()\n",
        "    print(f\"Epoch [{epoch+1}/{epochs}], Loss: {running_loss/len(train_dataloader)}\")"
      ],
      "metadata": {
        "colab": {
          "base_uri": "https://localhost:8080/"
        },
        "outputId": "25d864b1-761c-48b7-d4bb-8b7783da12c5",
        "id": "7L1S5YRQswRF"
      },
      "execution_count": null,
      "outputs": [
        {
          "output_type": "stream",
          "name": "stderr",
          "text": [
            "Epoch 1/3 [Train]: 100%|██████████| 94/94 [01:02<00:00,  1.50it/s]\n"
          ]
        },
        {
          "output_type": "stream",
          "name": "stdout",
          "text": [
            "Epoch [1/3], Loss: 0.6038804567874746\n"
          ]
        },
        {
          "output_type": "stream",
          "name": "stderr",
          "text": [
            "Epoch 2/3 [Train]: 100%|██████████| 94/94 [01:03<00:00,  1.49it/s]\n"
          ]
        },
        {
          "output_type": "stream",
          "name": "stdout",
          "text": [
            "Epoch [2/3], Loss: 0.46228318930940426\n"
          ]
        },
        {
          "output_type": "stream",
          "name": "stderr",
          "text": [
            "Epoch 3/3 [Train]: 100%|██████████| 94/94 [01:03<00:00,  1.49it/s]"
          ]
        },
        {
          "output_type": "stream",
          "name": "stdout",
          "text": [
            "Epoch [3/3], Loss: 0.4509715621775769\n"
          ]
        },
        {
          "output_type": "stream",
          "name": "stderr",
          "text": [
            "\n"
          ]
        }
      ]
    },
    {
      "cell_type": "markdown",
      "source": [
        "#### h. Оценить качество моделей по выбранным метрикам на выбранном наборе данных"
      ],
      "metadata": {
        "id": "6wPBHXyQswRF"
      }
    },
    {
      "cell_type": "code",
      "source": [
        "model.eval()\n",
        "iou_list = []\n",
        "dice_list = []\n",
        "pa_list = []\n",
        "\n",
        "with torch.no_grad():\n",
        "    for images, masks in tqdm(test_dataloader, desc=\"[Test]\"):\n",
        "        images = images.to(device)\n",
        "        masks = masks.to(device).float()\n",
        "        outputs = model(images)\n",
        "        output_probs = torch.sigmoid(outputs)\n",
        "        iou = iou_score(output_probs, masks)\n",
        "        dice = dice_score(output_probs, masks)\n",
        "        pa = pixel_accuracy(output_probs, masks)\n",
        "        iou_list.append(iou)\n",
        "        dice_list.append(dice)\n",
        "        pa_list.append(pa)\n",
        "\n",
        "avg_iou = np.mean(iou_list)\n",
        "avg_dice = np.mean(dice_list)\n",
        "avg_pa = np.mean(pa_list)\n",
        "\n",
        "print(f'IoU: {avg_iou:.4f}')\n",
        "print(f'Dice: {avg_dice:.4f}')\n",
        "print(f'Pixel_accuracy: {avg_pa:.4f}')\n",
        "\n"
      ],
      "metadata": {
        "id": "ztLkRPSYswRF",
        "colab": {
          "base_uri": "https://localhost:8080/"
        },
        "outputId": "911fe2f6-b7a4-4519-bdbd-2dbe63d69ca1"
      },
      "execution_count": null,
      "outputs": [
        {
          "output_type": "stream",
          "name": "stderr",
          "text": [
            "[Test]: 100%|██████████| 30/30 [00:16<00:00,  1.84it/s]"
          ]
        },
        {
          "output_type": "stream",
          "name": "stdout",
          "text": [
            "IoU: 0.0380\n",
            "Dice: 0.0729\n",
            "Pixel_accuracy: 0.7878\n"
          ]
        },
        {
          "output_type": "stream",
          "name": "stderr",
          "text": [
            "\n"
          ]
        }
      ]
    },
    {
      "cell_type": "markdown",
      "source": [
        "#### i. Сравнить результаты моделей в сравнении с результатами из пункта 3\n"
      ],
      "metadata": {
        "id": "hnY4jsRSswRG"
      }
    },
    {
      "cell_type": "markdown",
      "source": [
        "Улучшенный бейзлайн IoU: IoU: 0.7696 Dice: 0.8696 Pixel_accuracy: 0.8553\n",
        "\n",
        "Улучшенная собственная реализация: IoU: 0.0380\n",
        "Dice: 0.0729\n",
        "Pixel_accuracy: 0.7878"
      ],
      "metadata": {
        "id": "t3E174TDswRG"
      }
    },
    {
      "cell_type": "markdown",
      "source": [
        "####  j. Сделать выводы"
      ],
      "metadata": {
        "id": "AEcxL4l0swRG"
      }
    },
    {
      "cell_type": "markdown",
      "source": [
        "Таким образом, собственная реализация оказалась хуже уже готовой Segformer, а улучшенный бейзлайн (оптимизатор AdamW)  сделал модель нерабочей"
      ],
      "metadata": {
        "id": "s05NTHrkswRG"
      }
    }
  ]
}